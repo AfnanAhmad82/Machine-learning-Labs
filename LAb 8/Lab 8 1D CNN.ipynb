{
 "cells": [
  {
   "cell_type": "code",
   "execution_count": 10,
   "metadata": {},
   "outputs": [],
   "source": [
    "import os\n",
    "os.chdir(r'D:\\University Data\\8 semester\\Lab Machine learning')"
   ]
  },
  {
   "cell_type": "code",
   "execution_count": 11,
   "metadata": {},
   "outputs": [],
   "source": [
    "from sklearn.metrics import mean_squared_error, mean_absolute_error, explained_variance_score, r2_score\n",
    "from timeseires.utils.to_split import to_split\n",
    "from timeseires.utils.multivariate_multi_step import multivariate_multi_step\n",
    "from timeseires.utils.multivariate_single_step import multivariate_single_step\n",
    "from timeseires.utils.univariate_multi_step import univariate_multi_step\n",
    "from timeseires.utils.univariate_single_step import univariate_single_step\n",
    "from timeseires.utils.CosineAnnealingLRS import CosineAnnealingLRS\n",
    "from timeseires.callbacks.EpochCheckpoint import EpochCheckpoint\n",
    "from tensorflow.keras.callbacks import ModelCheckpoint\n",
    "from timeseires.callbacks.TrainingMonitor import TrainingMonitor\n",
    "from tensorflow.keras.optimizers import Adam\n",
    "from tensorflow.keras.optimizers import SGD\n",
    "from tensorflow.keras.models import load_model\n",
    "from tensorflow.keras.layers import LSTM, Bidirectional, Add\n",
    "from tensorflow.keras.layers import BatchNormalization\n",
    "from tensorflow.keras.layers import Conv1D,TimeDistributed\n",
    "from tensorflow.keras.layers import Dense, Dropout, Activation, Flatten,MaxPooling1D,Concatenate,AveragePooling1D, GlobalMaxPooling1D, Input\n",
    "from tensorflow.keras.models import Sequential,Model\n",
    "import pandas as pd\n",
    "import time, pickle\n",
    "import numpy as np\n",
    "import tensorflow.keras.backend as K\n",
    "import tensorflow\n",
    "from tensorflow.keras.layers import Input, Reshape, Lambda\n",
    "from tensorflow.keras.layers import Layer, Flatten, LeakyReLU, concatenate, Dense\n",
    "from tensorflow.keras.regularizers import l2\n",
    "import glob\n",
    "import h5py\n",
    "import matplotlib.pyplot as plt\n",
    "from keras.callbacks import Callback"
   ]
  },
  {
   "cell_type": "code",
   "execution_count": 12,
   "metadata": {},
   "outputs": [],
   "source": [
    "#lookback = 24\n",
    "model = None\n",
    "start_epoch = 0\n",
    "time_steps=24\n",
    "num_features=21"
   ]
  },
  {
   "cell_type": "code",
   "execution_count": 13,
   "metadata": {},
   "outputs": [],
   "source": [
    "def CNN():\n",
    "    input_data = Input(shape=(time_steps, num_features))\n",
    "    x1 = Conv1D(16, 2, activation=\"relu\")(input_data)\n",
    "    x2 = Conv1D(16, 2, activation=\"relu\")(x1)\n",
    "    flatten = Flatten()(x2)\n",
    "    output_data = Dense(1)(flatten)\n",
    "    model = Model(input_data, output_data)\n",
    "    return model"
   ]
  },
  {
   "cell_type": "code",
   "execution_count": 14,
   "metadata": {},
   "outputs": [
    {
     "name": "stdout",
     "output_type": "stream",
     "text": [
      "Model: \"model_1\"\n",
      "_________________________________________________________________\n",
      " Layer (type)                Output Shape              Param #   \n",
      "=================================================================\n",
      " input_2 (InputLayer)        [(None, 24, 21)]          0         \n",
      "                                                                 \n",
      " conv1d_2 (Conv1D)           (None, 23, 16)            688       \n",
      "                                                                 \n",
      " conv1d_3 (Conv1D)           (None, 22, 16)            528       \n",
      "                                                                 \n",
      " flatten_1 (Flatten)         (None, 352)               0         \n",
      "                                                                 \n",
      " dense_1 (Dense)             (None, 1)                 353       \n",
      "                                                                 \n",
      "=================================================================\n",
      "Total params: 1,569\n",
      "Trainable params: 1,569\n",
      "Non-trainable params: 0\n",
      "_________________________________________________________________\n"
     ]
    }
   ],
   "source": [
    "model1 = CNN()\n",
    "model1.summary()"
   ]
  },
  {
   "cell_type": "code",
   "execution_count": 15,
   "metadata": {},
   "outputs": [],
   "source": [
    "#tensorflow.keras.utils.plot_model(model1 )"
   ]
  },
  {
   "cell_type": "code",
   "execution_count": 16,
   "metadata": {},
   "outputs": [],
   "source": [
    "checkpoints = r'D:\\University Data\\8 semester\\Lab Machine learning\\lab8\\\\E1-cp-{epoch:04d}-loss{val_loss:.2f}.h5'\n",
    "OUTPUT_PATH = r'D:\\University Data\\8 semester\\Lab Machine learning\\lab8'\n",
    "#FIG_PATH = os.path.sep.join([OUTPUT_PATH,\"\\history.png\"])\n",
    "#JSON_PATH = os.path.sep.join([OUTPUT_PATH,\"\\history.json\"])"
   ]
  },
  {
   "cell_type": "code",
   "execution_count": 17,
   "metadata": {},
   "outputs": [],
   "source": [
    "# construct the callback to save only the *best* model to disk\n",
    "# based on the validation loss\n",
    "EpochCheckpoint1 = ModelCheckpoint(checkpoints,\n",
    "                             monitor=\"val_loss\",\n",
    "                             save_best_only=True, \n",
    "                             verbose=1)\n",
    "#TrainingMonitor1=TrainingMonitor(FIG_PATH, jsonPath=JSON_PATH, startAt=start_epoch)\n",
    "\n",
    "# construct the set of callbacks\n",
    "callbacks = [EpochCheckpoint1]"
   ]
  },
  {
   "cell_type": "code",
   "execution_count": 18,
   "metadata": {},
   "outputs": [
    {
     "name": "stdout",
     "output_type": "stream",
     "text": [
      "[INFO] compiling model...\n"
     ]
    }
   ],
   "source": [
    "# if there is no specific model checkpoint supplied, then initialize\n",
    "# the network and compile the model\n",
    "if model is None:\n",
    "    print(\"[INFO] compiling model...\")\n",
    "    model =CNN()\n",
    "    opt = Adam(1e-3)\n",
    "    model.compile(loss= 'mae', optimizer=opt, metrics=[\"mae\", \"mape\"])\n",
    "# otherwise, load the checkpoint from disk\n",
    "else:\n",
    "    print(\"[INFO] loading {}...\".format(model))\n",
    "    model = load_model(model)\n",
    "\n",
    "    # update the learning rate\n",
    "    print(\"[INFO] old learning rate: {}\".format(K.get_value(model.optimizer.lr)))\n",
    "    K.set_value(model.optimizer.lr, 1e-4)\n",
    "    print(\"[INFO] new learning rate: {}\".format(K.get_value(model.optimizer.lr)))"
   ]
  },
  {
   "cell_type": "code",
   "execution_count": 19,
   "metadata": {},
   "outputs": [
    {
     "name": "stderr",
     "output_type": "stream",
     "text": [
      "C:\\Users\\AFNAN AHMAD\\anaconda3\\envs\\myenv\\lib\\site-packages\\sklearn\\base.py:380: InconsistentVersionWarning: Trying to unpickle estimator MinMaxScaler from version 1.0.2 when using version 1.6.1. This might lead to breaking code or invalid results. Use at your own risk. For more info please refer to:\n",
      "https://scikit-learn.org/stable/model_persistence.html#security-maintainability-limitations\n",
      "  warnings.warn(\n"
     ]
    },
    {
     "data": {
      "text/plain": [
       "((84907, 21), (24259, 21), (12130, 21))"
      ]
     },
     "execution_count": 19,
     "metadata": {},
     "output_type": "execute_result"
    }
   ],
   "source": [
    "import os\n",
    "path_dataset =r'D:\\University Data\\8 semester\\Lab Machine learning'\n",
    "path_tr = os.path.join(path_dataset, 'AEP_train.csv')\n",
    "df_tr = pd.read_csv(path_tr)\n",
    "train_set = df_tr.iloc[:].values\n",
    "path_v = os.path.join(path_dataset, 'AEP_validation.csv')\n",
    "df_v = pd.read_csv(path_v)\n",
    "validation_set = df_v.iloc[:].values \n",
    "path_te = os.path.join(path_dataset, 'AEP_test.csv')\n",
    "df_te = pd.read_csv(path_te)\n",
    "test_set = df_te.iloc[:].values \n",
    "\n",
    "path_scaler = os.path.join(path_dataset, 'AEP_Scaler.pkl')\n",
    "scaler         = pickle.load(open(path_scaler, 'rb'))\n",
    "\n",
    "train_set.shape, validation_set.shape, test_set.shape"
   ]
  },
  {
   "cell_type": "code",
   "execution_count": 20,
   "metadata": {},
   "outputs": [],
   "source": [
    "time_steps=24\n",
    "num_features=21"
   ]
  },
  {
   "cell_type": "code",
   "execution_count": 21,
   "metadata": {},
   "outputs": [
    {
     "name": "stdout",
     "output_type": "stream",
     "text": [
      "Time Consumed 1.2116761207580566 sec\n"
     ]
    }
   ],
   "source": [
    "start = time.time()\n",
    "train_X , train_y = univariate_multi_step(train_set, time_steps, target_col=0,target_len=1)\n",
    "validation_X, validation_y = univariate_multi_step(validation_set, time_steps, target_col=0,target_len=1)\n",
    "test_X, test_y = univariate_multi_step(test_set, time_steps, target_col=0,target_len=1)\n",
    "print('Time Consumed', time.time()-start, \"sec\")"
   ]
  },
  {
   "cell_type": "code",
   "execution_count": 22,
   "metadata": {},
   "outputs": [
    {
     "name": "stdout",
     "output_type": "stream",
     "text": [
      "Epoch 1/20\n",
      "2653/2653 [==============================] - ETA: 0s - loss: 0.0399 - mae: 0.0399 - mape: 1687.0037   \n",
      "Epoch 1: val_loss improved from inf to 0.02204, saving model to D:\\University Data\\8 semester\\Lab Machine learning\\lab8\\E1-cp-0001-loss0.02.h5\n",
      "2653/2653 [==============================] - 37s 13ms/step - loss: 0.0399 - mae: 0.0399 - mape: 1687.0037 - val_loss: 0.0220 - val_mae: 0.0220 - val_mape: 10.0752\n",
      "Epoch 2/20\n",
      "2650/2653 [============================>.] - ETA: 0s - loss: 0.0176 - mae: 0.0176 - mape: 452.1073  \n",
      "Epoch 2: val_loss improved from 0.02204 to 0.01542, saving model to D:\\University Data\\8 semester\\Lab Machine learning\\lab8\\E1-cp-0002-loss0.02.h5\n",
      "2653/2653 [==============================] - 31s 12ms/step - loss: 0.0176 - mae: 0.0176 - mape: 451.6755 - val_loss: 0.0154 - val_mae: 0.0154 - val_mape: 7.3991\n",
      "Epoch 3/20\n",
      "2648/2653 [============================>.] - ETA: 0s - loss: 0.0140 - mae: 0.0140 - mape: 359.9780\n",
      "Epoch 3: val_loss improved from 0.01542 to 0.01356, saving model to D:\\University Data\\8 semester\\Lab Machine learning\\lab8\\E1-cp-0003-loss0.01.h5\n",
      "2653/2653 [==============================] - 34s 13ms/step - loss: 0.0140 - mae: 0.0140 - mape: 359.3659 - val_loss: 0.0136 - val_mae: 0.0136 - val_mape: 6.2666\n",
      "Epoch 4/20\n",
      "2648/2653 [============================>.] - ETA: 0s - loss: 0.0123 - mae: 0.0123 - mape: 546.6685  \n",
      "Epoch 4: val_loss improved from 0.01356 to 0.01066, saving model to D:\\University Data\\8 semester\\Lab Machine learning\\lab8\\E1-cp-0004-loss0.01.h5\n",
      "2653/2653 [==============================] - 28s 11ms/step - loss: 0.0123 - mae: 0.0123 - mape: 545.7340 - val_loss: 0.0107 - val_mae: 0.0107 - val_mape: 5.9718\n",
      "Epoch 5/20\n",
      "2653/2653 [==============================] - ETA: 0s - loss: 0.0116 - mae: 0.0116 - mape: 495.1958  \n",
      "Epoch 5: val_loss did not improve from 0.01066\n",
      "2653/2653 [==============================] - 31s 12ms/step - loss: 0.0116 - mae: 0.0116 - mape: 495.1958 - val_loss: 0.0108 - val_mae: 0.0108 - val_mape: 5.9636\n",
      "Epoch 6/20\n",
      "2650/2653 [============================>.] - ETA: 0s - loss: 0.0111 - mae: 0.0111 - mape: 564.5005  \n",
      "Epoch 6: val_loss improved from 0.01066 to 0.00893, saving model to D:\\University Data\\8 semester\\Lab Machine learning\\lab8\\E1-cp-0006-loss0.01.h5\n",
      "2653/2653 [==============================] - 29s 11ms/step - loss: 0.0111 - mae: 0.0111 - mape: 563.9584 - val_loss: 0.0089 - val_mae: 0.0089 - val_mape: 5.1511\n",
      "Epoch 7/20\n",
      "2651/2653 [============================>.] - ETA: 0s - loss: 0.0106 - mae: 0.0106 - mape: 715.2497\n",
      "Epoch 7: val_loss did not improve from 0.00893\n",
      "2653/2653 [==============================] - 25s 9ms/step - loss: 0.0106 - mae: 0.0106 - mape: 714.8307 - val_loss: 0.0098 - val_mae: 0.0098 - val_mape: 5.7720\n",
      "Epoch 8/20\n",
      "2652/2653 [============================>.] - ETA: 0s - loss: 0.0103 - mae: 0.0103 - mape: 706.2131  \n",
      "Epoch 8: val_loss did not improve from 0.00893\n",
      "2653/2653 [==============================] - 30s 11ms/step - loss: 0.0103 - mae: 0.0103 - mape: 706.0638 - val_loss: 0.0111 - val_mae: 0.0111 - val_mape: 6.0726\n",
      "Epoch 9/20\n",
      "2651/2653 [============================>.] - ETA: 0s - loss: 0.0100 - mae: 0.0100 - mape: 771.1257   \n",
      "Epoch 9: val_loss did not improve from 0.00893\n",
      "2653/2653 [==============================] - 27s 10ms/step - loss: 0.0100 - mae: 0.0100 - mape: 770.6732 - val_loss: 0.0103 - val_mae: 0.0103 - val_mape: 6.1427\n",
      "Epoch 10/20\n",
      "2652/2653 [============================>.] - ETA: 0s - loss: 0.0098 - mae: 0.0098 - mape: 896.5994   \n",
      "Epoch 10: val_loss did not improve from 0.00893\n",
      "2653/2653 [==============================] - 25s 9ms/step - loss: 0.0098 - mae: 0.0098 - mape: 896.4100 - val_loss: 0.0098 - val_mae: 0.0098 - val_mape: 5.9091\n",
      "Epoch 11/20\n",
      "2651/2653 [============================>.] - ETA: 0s - loss: 0.0097 - mae: 0.0097 - mape: 663.8771  \n",
      "Epoch 11: val_loss did not improve from 0.00893\n",
      "2653/2653 [==============================] - 31s 12ms/step - loss: 0.0097 - mae: 0.0097 - mape: 663.4876 - val_loss: 0.0091 - val_mae: 0.0091 - val_mape: 5.8369\n",
      "Epoch 12/20\n",
      "2651/2653 [============================>.] - ETA: 0s - loss: 0.0093 - mae: 0.0093 - mape: 573.5364  \n",
      "Epoch 12: val_loss did not improve from 0.00893\n",
      "2653/2653 [==============================] - 26s 10ms/step - loss: 0.0093 - mae: 0.0093 - mape: 573.1999 - val_loss: 0.0098 - val_mae: 0.0098 - val_mape: 6.2887\n",
      "Epoch 13/20\n",
      "2648/2653 [============================>.] - ETA: 0s - loss: 0.0093 - mae: 0.0093 - mape: 518.3474\n",
      "Epoch 13: val_loss did not improve from 0.00893\n",
      "2653/2653 [==============================] - 34s 13ms/step - loss: 0.0093 - mae: 0.0093 - mape: 517.4609 - val_loss: 0.0092 - val_mae: 0.0092 - val_mape: 6.0660\n",
      "Epoch 14/20\n",
      "2653/2653 [==============================] - ETA: 0s - loss: 0.0093 - mae: 0.0093 - mape: 712.6355\n",
      "Epoch 14: val_loss improved from 0.00893 to 0.00805, saving model to D:\\University Data\\8 semester\\Lab Machine learning\\lab8\\E1-cp-0014-loss0.01.h5\n",
      "2653/2653 [==============================] - 29s 11ms/step - loss: 0.0093 - mae: 0.0093 - mape: 712.6355 - val_loss: 0.0081 - val_mae: 0.0081 - val_mape: 5.6708\n",
      "Epoch 15/20\n",
      "2652/2653 [============================>.] - ETA: 0s - loss: 0.0090 - mae: 0.0090 - mape: 638.6810  \n",
      "Epoch 15: val_loss did not improve from 0.00805\n",
      "2653/2653 [==============================] - 28s 10ms/step - loss: 0.0090 - mae: 0.0090 - mape: 638.5461 - val_loss: 0.0085 - val_mae: 0.0085 - val_mape: 5.4301\n",
      "Epoch 16/20\n",
      "2651/2653 [============================>.] - ETA: 0s - loss: 0.0089 - mae: 0.0089 - mape: 726.7841\n",
      "Epoch 16: val_loss did not improve from 0.00805\n",
      "2653/2653 [==============================] - 31s 12ms/step - loss: 0.0089 - mae: 0.0089 - mape: 726.3576 - val_loss: 0.0085 - val_mae: 0.0085 - val_mape: 5.7791\n",
      "Epoch 17/20\n",
      "2650/2653 [============================>.] - ETA: 0s - loss: 0.0089 - mae: 0.0089 - mape: 732.7366\n",
      "Epoch 17: val_loss did not improve from 0.00805\n",
      "2653/2653 [==============================] - 27s 10ms/step - loss: 0.0089 - mae: 0.0089 - mape: 732.0312 - val_loss: 0.0108 - val_mae: 0.0108 - val_mape: 6.3520\n",
      "Epoch 18/20\n",
      "2648/2653 [============================>.] - ETA: 0s - loss: 0.0088 - mae: 0.0088 - mape: 705.6086  \n",
      "Epoch 18: val_loss did not improve from 0.00805\n",
      "2653/2653 [==============================] - 32s 12ms/step - loss: 0.0088 - mae: 0.0088 - mape: 704.3998 - val_loss: 0.0081 - val_mae: 0.0081 - val_mape: 5.2396\n",
      "Epoch 19/20\n",
      "2653/2653 [==============================] - ETA: 0s - loss: 0.0088 - mae: 0.0088 - mape: 729.3238  \n",
      "Epoch 19: val_loss did not improve from 0.00805\n",
      "2653/2653 [==============================] - 31s 12ms/step - loss: 0.0088 - mae: 0.0088 - mape: 729.3238 - val_loss: 0.0093 - val_mae: 0.0093 - val_mape: 5.8064\n",
      "Epoch 20/20\n",
      "2653/2653 [==============================] - ETA: 0s - loss: 0.0088 - mae: 0.0088 - mape: 610.0537  \n",
      "Epoch 20: val_loss did not improve from 0.00805\n",
      "2653/2653 [==============================] - 25s 9ms/step - loss: 0.0088 - mae: 0.0088 - mape: 610.0537 - val_loss: 0.0084 - val_mae: 0.0084 - val_mape: 5.5885\n"
     ]
    }
   ],
   "source": [
    "epochs = 20\n",
    "verbose = 1 #0\n",
    "batch_size = 32\n",
    "History = model.fit(train_X,\n",
    "                        train_y,\n",
    "                        batch_size=batch_size,   \n",
    "                        epochs = epochs, \n",
    "                        validation_data = (validation_X,validation_y),\n",
    "                        callbacks=callbacks,verbose = verbose)"
   ]
  },
  {
   "cell_type": "code",
   "execution_count": 24,
   "metadata": {},
   "outputs": [
    {
     "name": "stdout",
     "output_type": "stream",
     "text": [
      "379/379 [==============================] - 2s 5ms/step\n",
      "Mean Absolute Error (MAE): 123.2\n",
      "Median Absolute Error (MedAE): 96.55\n",
      "Mean Squared Error (MSE): 26595.11\n",
      "Root Mean Squared Error (RMSE): 163.08\n",
      "Mean Absolute Percentage Error (MAPE): 0.85 %\n",
      "Median Absolute Percentage Error (MDAPE): 0.67 %\n",
      "\n",
      "\n",
      "y_test_unscaled.shape=  (12105, 1)\n",
      "y_pred.shape=  (12105, 1)\n"
     ]
    }
   ],
   "source": [
    "model = load_model(r'D:\\University Data\\8 semester\\Lab Machine learning\\lab8\\E1-cp-0014-loss0.01.h5')\n",
    "y_pred_scaled   = model.predict(test_X)\n",
    "y_pred          = scaler.inverse_transform(y_pred_scaled)\n",
    "y_test_unscaled = scaler.inverse_transform(test_y)\n",
    "# Mean Absolute Error (MAE)\n",
    "MAE = np.mean(abs(y_pred - y_test_unscaled)) \n",
    "print('Mean Absolute Error (MAE): ' + str(np.round(MAE, 2)))\n",
    "\n",
    "# Median Absolute Error (MedAE)\n",
    "MEDAE = np.median(abs(y_pred - y_test_unscaled))\n",
    "print('Median Absolute Error (MedAE): ' + str(np.round(MEDAE, 2)))\n",
    "\n",
    "# Mean Squared Error (MSE)\n",
    "MSE = np.square(np.subtract(y_pred, y_test_unscaled)).mean()\n",
    "print('Mean Squared Error (MSE): ' + str(np.round(MSE, 2)))\n",
    "\n",
    "# Root Mean Squarred Error (RMSE) \n",
    "RMSE = np.sqrt(np.mean(np.square(y_pred - y_test_unscaled)))\n",
    "print('Root Mean Squared Error (RMSE): ' + str(np.round(RMSE, 2)))\n",
    "\n",
    "# Mean Absolute Percentage Error (MAPE)\n",
    "MAPE = np.mean((np.abs(np.subtract(y_test_unscaled, y_pred)/ y_test_unscaled))) * 100\n",
    "print('Mean Absolute Percentage Error (MAPE): ' + str(np.round(MAPE, 2)) + ' %')\n",
    "\n",
    "# Median Absolute Percentage Error (MDAPE)\n",
    "MDAPE = np.median((np.abs(np.subtract(y_test_unscaled, y_pred)/ y_test_unscaled))) * 100\n",
    "print('Median Absolute Percentage Error (MDAPE): ' + str(np.round(MDAPE, 2)) + ' %')\n",
    "\n",
    "print('\\n\\ny_test_unscaled.shape= ',y_test_unscaled.shape)\n",
    "print('y_pred.shape= ',y_pred.shape)"
   ]
  },
  {
   "cell_type": "code",
   "execution_count": 31,
   "metadata": {},
   "outputs": [],
   "source": [
    "checkpoints = r'D:\\University Data\\8 semester\\Lab Machine learning\\lab8\\E1-cp-{epoch:04d}-loss{val_loss:.2f}.h5'\n",
    "model=r'D:\\University Data\\8 semester\\Lab Machine learning\\lab8\\E1-cp-0014-loss0.01.h5'\n",
    "start_epoch= 15"
   ]
  },
  {
   "cell_type": "code",
   "execution_count": 18,
   "metadata": {},
   "outputs": [
    {
     "name": "stdout",
     "output_type": "stream",
     "text": [
      "Epoch 1/10\n",
      "2651/2653 [============================>.] - ETA: 0s - loss: 0.0064 - mae: 0.0064 - mape: 711.7792\n",
      "Epoch 1: val_loss improved from inf to 0.00659, saving model to C:\\Users\\Administrator\\Downloads\\ML Lab\\checkpoint\\ML Lab\\lab8\\E2-cp-0001-loss0.01.h5\n",
      "2653/2653 [==============================] - 36s 13ms/step - loss: 0.0064 - mae: 0.0064 - mape: 711.3610 - val_loss: 0.0066 - val_mae: 0.0066 - val_mape: 4.3460\n",
      "Epoch 2/10\n",
      "2644/2653 [============================>.] - ETA: 0s - loss: 0.0063 - mae: 0.0063 - mape: 578.1265\n",
      "Epoch 2: val_loss improved from 0.00659 to 0.00642, saving model to C:\\Users\\Administrator\\Downloads\\ML Lab\\checkpoint\\ML Lab\\lab8\\E2-cp-0002-loss0.01.h5\n",
      "2653/2653 [==============================] - 10s 4ms/step - loss: 0.0063 - mae: 0.0063 - mape: 576.2668 - val_loss: 0.0064 - val_mae: 0.0064 - val_mape: 4.2309\n",
      "Epoch 3/10\n",
      "2646/2653 [============================>.] - ETA: 0s - loss: 0.0063 - mae: 0.0063 - mape: 551.6437\n",
      "Epoch 3: val_loss did not improve from 0.00642\n",
      "2653/2653 [==============================] - 9s 3ms/step - loss: 0.0063 - mae: 0.0063 - mape: 550.2834 - val_loss: 0.0064 - val_mae: 0.0064 - val_mape: 4.0820\n",
      "Epoch 4/10\n",
      "2646/2653 [============================>.] - ETA: 0s - loss: 0.0063 - mae: 0.0063 - mape: 530.7892\n",
      "Epoch 4: val_loss improved from 0.00642 to 0.00635, saving model to C:\\Users\\Administrator\\Downloads\\ML Lab\\checkpoint\\ML Lab\\lab8\\E2-cp-0004-loss0.01.h5\n",
      "2653/2653 [==============================] - 10s 4ms/step - loss: 0.0063 - mae: 0.0063 - mape: 529.4807 - val_loss: 0.0063 - val_mae: 0.0063 - val_mape: 3.9228\n",
      "Epoch 5/10\n",
      "2646/2653 [============================>.] - ETA: 0s - loss: 0.0063 - mae: 0.0063 - mape: 508.4587\n",
      "Epoch 5: val_loss did not improve from 0.00635\n",
      "2653/2653 [==============================] - 9s 3ms/step - loss: 0.0063 - mae: 0.0063 - mape: 507.2063 - val_loss: 0.0064 - val_mae: 0.0064 - val_mape: 3.8944\n",
      "Epoch 6/10\n",
      "2641/2653 [============================>.] - ETA: 0s - loss: 0.0062 - mae: 0.0062 - mape: 488.7381\n",
      "Epoch 6: val_loss did not improve from 0.00635\n",
      "2653/2653 [==============================] - 11s 4ms/step - loss: 0.0062 - mae: 0.0062 - mape: 486.6173 - val_loss: 0.0064 - val_mae: 0.0064 - val_mape: 3.9434\n",
      "Epoch 7/10\n",
      "2641/2653 [============================>.] - ETA: 0s - loss: 0.0062 - mae: 0.0062 - mape: 509.4472\n",
      "Epoch 7: val_loss did not improve from 0.00635\n",
      "2653/2653 [==============================] - 10s 4ms/step - loss: 0.0062 - mae: 0.0062 - mape: 507.2358 - val_loss: 0.0065 - val_mae: 0.0065 - val_mape: 3.9014\n",
      "Epoch 8/10\n",
      "2650/2653 [============================>.] - ETA: 0s - loss: 0.0062 - mae: 0.0062 - mape: 480.2416\n",
      "Epoch 8: val_loss improved from 0.00635 to 0.00629, saving model to C:\\Users\\Administrator\\Downloads\\ML Lab\\checkpoint\\ML Lab\\lab8\\E2-cp-0008-loss0.01.h5\n",
      "2653/2653 [==============================] - 11s 4ms/step - loss: 0.0062 - mae: 0.0062 - mape: 479.7799 - val_loss: 0.0063 - val_mae: 0.0063 - val_mape: 3.7243\n",
      "Epoch 9/10\n",
      "2653/2653 [==============================] - ETA: 0s - loss: 0.0062 - mae: 0.0062 - mape: 507.7181\n",
      "Epoch 9: val_loss did not improve from 0.00629\n",
      "2653/2653 [==============================] - 9s 3ms/step - loss: 0.0062 - mae: 0.0062 - mape: 507.7181 - val_loss: 0.0064 - val_mae: 0.0064 - val_mape: 3.7964\n",
      "Epoch 10/10\n",
      "2636/2653 [============================>.] - ETA: 0s - loss: 0.0062 - mae: 0.0062 - mape: 439.2181\n",
      "Epoch 10: val_loss did not improve from 0.00629\n",
      "2653/2653 [==============================] - 10s 4ms/step - loss: 0.0062 - mae: 0.0062 - mape: 436.4884 - val_loss: 0.0065 - val_mae: 0.0065 - val_mape: 3.7851\n"
     ]
    }
   ],
   "source": [
    "epochs = 10\n",
    "verbose = 1 #0\n",
    "batch_size = 32\n",
    "History = model.fit(train_X,\n",
    "                        train_y,\n",
    "                        batch_size=batch_size,   \n",
    "                        epochs = epochs, \n",
    "                        validation_data = (validation_X,validation_y),\n",
    "                        callbacks=callbacks,\n",
    "                        verbose = verbose)"
   ]
  },
  {
   "cell_type": "code",
   "execution_count": 19,
   "metadata": {},
   "outputs": [
    {
     "name": "stdout",
     "output_type": "stream",
     "text": [
      "379/379 [==============================] - 1s 2ms/step\n",
      "Mean Absolute Error (MAE): 103.3\n",
      "Median Absolute Error (MedAE): 82.18\n",
      "Mean Squared Error (MSE): 18772.44\n",
      "Root Mean Squared Error (RMSE): 137.01\n",
      "Mean Absolute Percentage Error (MAPE): 0.71 %\n",
      "Median Absolute Percentage Error (MDAPE): 0.57 %\n",
      "\n",
      "\n",
      "y_test_unscaled.shape=  (12105, 1)\n",
      "y_pred.shape=  (12105, 1)\n"
     ]
    }
   ],
   "source": [
    "\n",
    "model = load_model(r'D:\\University Data\\8 semester\\Lab Machine learning\\lab8\\E2-cp-0008-loss0.01.h5')\n",
    "\n",
    "y_pred_scaled   = model.predict(test_X)\n",
    "y_pred          = scaler.inverse_transform(y_pred_scaled)\n",
    "y_test_unscaled = scaler.inverse_transform(test_y)\n",
    "# Mean Absolute Error (MAE)\n",
    "MAE = np.mean(abs(y_pred - y_test_unscaled)) \n",
    "print('Mean Absolute Error (MAE): ' + str(np.round(MAE, 2)))\n",
    "\n",
    "# Median Absolute Error (MedAE)\n",
    "MEDAE = np.median(abs(y_pred - y_test_unscaled))\n",
    "print('Median Absolute Error (MedAE): ' + str(np.round(MEDAE, 2)))\n",
    "\n",
    "# Mean Squared Error (MSE)\n",
    "MSE = np.square(np.subtract(y_pred, y_test_unscaled)).mean()\n",
    "print('Mean Squared Error (MSE): ' + str(np.round(MSE, 2)))\n",
    "\n",
    "# Root Mean Squarred Error (RMSE) \n",
    "RMSE = np.sqrt(np.mean(np.square(y_pred - y_test_unscaled)))\n",
    "print('Root Mean Squared Error (RMSE): ' + str(np.round(RMSE, 2)))\n",
    "\n",
    "# Mean Absolute Percentage Error (MAPE)\n",
    "MAPE = np.mean((np.abs(np.subtract(y_test_unscaled, y_pred)/ y_test_unscaled))) * 100\n",
    "print('Mean Absolute Percentage Error (MAPE): ' + str(np.round(MAPE, 2)) + ' %')\n",
    "\n",
    "# Median Absolute Percentage Error (MDAPE)\n",
    "MDAPE = np.median((np.abs(np.subtract(y_test_unscaled, y_pred)/ y_test_unscaled))) * 100\n",
    "print('Median Absolute Percentage Error (MDAPE): ' + str(np.round(MDAPE, 2)) + ' %')\n",
    "\n",
    "print('\\n\\ny_test_unscaled.shape= ',y_test_unscaled.shape)\n",
    "print('y_pred.shape= ',y_pred.shape)"
   ]
  },
  {
   "cell_type": "markdown",
   "metadata": {},
   "source": [
    "# "
   ]
  },
  {
   "cell_type": "code",
   "execution_count": null,
   "metadata": {},
   "outputs": [],
   "source": []
  }
 ],
 "metadata": {
  "kernelspec": {
   "display_name": "Python 3 (ipykernel)",
   "language": "python",
   "name": "python3"
  },
  "language_info": {
   "codemirror_mode": {
    "name": "ipython",
    "version": 3
   },
   "file_extension": ".py",
   "mimetype": "text/x-python",
   "name": "python",
   "nbconvert_exporter": "python",
   "pygments_lexer": "ipython3",
   "version": "3.9.15"
  }
 },
 "nbformat": 4,
 "nbformat_minor": 4
}
