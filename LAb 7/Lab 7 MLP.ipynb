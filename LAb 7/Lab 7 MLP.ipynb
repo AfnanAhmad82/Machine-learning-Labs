{
 "cells": [
  {
   "cell_type": "code",
   "execution_count": 2,
   "metadata": {},
   "outputs": [],
   "source": [
    "import os\n",
    "os.chdir(r'D:\\University Data\\8 semester\\Lab Machine learning')"
   ]
  },
  {
   "cell_type": "code",
   "execution_count": 3,
   "metadata": {},
   "outputs": [],
   "source": [
    "from sklearn.metrics import mean_squared_error, mean_absolute_error, explained_variance_score, r2_score\n",
    "from timeseires.utils.to_split import to_split\n",
    "from timeseires.utils.multivariate_multi_step import multivariate_multi_step\n",
    "from timeseires.utils.multivariate_single_step import multivariate_single_step\n",
    "from timeseires.utils.univariate_multi_step import univariate_multi_step\n",
    "from timeseires.utils.univariate_single_step import univariate_single_step\n",
    "from timeseires.utils.CosineAnnealingLRS import CosineAnnealingLRS\n",
    "from timeseires.callbacks.EpochCheckpoint import EpochCheckpoint\n",
    "from tensorflow.keras.callbacks import ModelCheckpoint\n",
    "from timeseires.callbacks.TrainingMonitor import TrainingMonitor\n",
    "from tensorflow.keras.optimizers import Adam\n",
    "from tensorflow.keras.optimizers import SGD\n",
    "from tensorflow.keras.models import load_model\n",
    "from tensorflow.keras.layers import LSTM, Bidirectional, Add\n",
    "from tensorflow.keras.layers import BatchNormalization\n",
    "from tensorflow.keras.layers import Conv1D,TimeDistributed\n",
    "from tensorflow.keras.layers import Dense, Dropout, Activation, Flatten,MaxPooling1D,Concatenate,AveragePooling1D, GlobalMaxPooling1D, Input\n",
    "from tensorflow.keras.models import Sequential,Model\n",
    "import pandas as pd\n",
    "import time, pickle\n",
    "import numpy as np\n",
    "import tensorflow.keras.backend as K\n",
    "import tensorflow\n",
    "from tensorflow.keras.layers import Input, Reshape, Lambda\n",
    "from tensorflow.keras.layers import Layer, Flatten, LeakyReLU, concatenate, Dense\n",
    "from tensorflow.keras.regularizers import l2\n",
    "import glob\n",
    "import h5py\n",
    "import matplotlib.pyplot as plt\n",
    "from keras.callbacks import Callback"
   ]
  },
  {
   "cell_type": "code",
   "execution_count": 4,
   "metadata": {},
   "outputs": [],
   "source": [
    "#lookback = 24\n",
    "model = None\n",
    "start_epoch = 0\n",
    "time_steps=24\n",
    "num_features=21"
   ]
  },
  {
   "cell_type": "code",
   "execution_count": 5,
   "metadata": {},
   "outputs": [],
   "source": [
    "def MLP():\n",
    "    model = Sequential()\n",
    "    model.add(Flatten(input_shape=(time_steps , num_features)))\n",
    "    model.add(Dense(32, activation='relu'))\n",
    "    model.add(Dense(1))\n",
    "    return model"
   ]
  },
  {
   "cell_type": "code",
   "execution_count": 6,
   "metadata": {
    "scrolled": true
   },
   "outputs": [
    {
     "name": "stdout",
     "output_type": "stream",
     "text": [
      "Model: \"sequential\"\n",
      "_________________________________________________________________\n",
      " Layer (type)                Output Shape              Param #   \n",
      "=================================================================\n",
      " flatten (Flatten)           (None, 504)               0         \n",
      "                                                                 \n",
      " dense (Dense)               (None, 32)                16160     \n",
      "                                                                 \n",
      " dense_1 (Dense)             (None, 1)                 33        \n",
      "                                                                 \n",
      "=================================================================\n",
      "Total params: 16,193\n",
      "Trainable params: 16,193\n",
      "Non-trainable params: 0\n",
      "_________________________________________________________________\n"
     ]
    }
   ],
   "source": [
    "model1 = MLP()\n",
    "model1.summary()"
   ]
  },
  {
   "cell_type": "code",
   "execution_count": 7,
   "metadata": {},
   "outputs": [
    {
     "name": "stdout",
     "output_type": "stream",
     "text": [
      "You must install pydot (`pip install pydot`) and install graphviz (see instructions at https://graphviz.gitlab.io/download/) for plot_model to work.\n"
     ]
    }
   ],
   "source": [
    "tensorflow.keras.utils.plot_model(model1 )"
   ]
  },
  {
   "cell_type": "code",
   "execution_count": 8,
   "metadata": {},
   "outputs": [],
   "source": [
    "checkpoints = r'D:\\University Data\\8 semester\\Lab Machine learning\\lab7\\\\E1-cp-{epoch:04d}-loss{val_loss:.2f}.h5'\n",
    "OUTPUT_PATH = r'D:\\University Data\\8 semester\\Lab Machine learning\\lab7'\n",
    "#FIG_PATH = os.path.sep.join([OUTPUT_PATH,\"\\history.png\"])\n",
    "#JSON_PATH = os.path.sep.join([OUTPUT_PATH,\"\\history.json\"])"
   ]
  },
  {
   "cell_type": "code",
   "execution_count": 9,
   "metadata": {},
   "outputs": [],
   "source": [
    "# construct the callback to save only the *best* model to disk\n",
    "# based on the validation loss\n",
    "EpochCheckpoint1 = ModelCheckpoint(checkpoints,\n",
    "                             monitor=\"val_loss\",\n",
    "                             save_best_only=True, \n",
    "                             verbose=1)\n",
    "#TrainingMonitor1=TrainingMonitor(FIG_PATH, jsonPath=JSON_PATH, startAt=start_epoch)\n",
    "\n",
    "# construct the set of callbacks\n",
    "callbacks = [EpochCheckpoint1]"
   ]
  },
  {
   "cell_type": "code",
   "execution_count": 10,
   "metadata": {},
   "outputs": [
    {
     "name": "stdout",
     "output_type": "stream",
     "text": [
      "[INFO] compiling model...\n"
     ]
    }
   ],
   "source": [
    "# if there is no specific model checkpoint supplied, then initialize\n",
    "# the network and compile the model\n",
    "if model is None:\n",
    "    print(\"[INFO] compiling model...\")\n",
    "    model =MLP()\n",
    "    opt = Adam(1e-3)\n",
    "    model.compile(loss= 'mae', optimizer=opt, metrics=[\"mae\", \"mape\"])\n",
    "# otherwise, load the checkpoint from disk\n",
    "else:\n",
    "    print(\"[INFO] loading {}...\".format(model))\n",
    "    model = load_model(model)\n",
    "\n",
    "    # update the learning rate\n",
    "    print(\"[INFO] old learning rate: {}\".format(K.get_value(model.optimizer.lr)))\n",
    "    K.set_value(model.optimizer.lr, 1e-4)\n",
    "    print(\"[INFO] new learning rate: {}\".format(K.get_value(model.optimizer.lr)))"
   ]
  },
  {
   "cell_type": "code",
   "execution_count": 20,
   "metadata": {},
   "outputs": [
    {
     "name": "stderr",
     "output_type": "stream",
     "text": [
      "C:\\Users\\AFNAN AHMAD\\anaconda3\\envs\\myenv\\lib\\site-packages\\sklearn\\base.py:380: InconsistentVersionWarning: Trying to unpickle estimator MinMaxScaler from version 1.0.2 when using version 1.6.1. This might lead to breaking code or invalid results. Use at your own risk. For more info please refer to:\n",
      "https://scikit-learn.org/stable/model_persistence.html#security-maintainability-limitations\n",
      "  warnings.warn(\n"
     ]
    },
    {
     "data": {
      "text/plain": [
       "((84907, 21), (24259, 21), (12130, 21))"
      ]
     },
     "execution_count": 20,
     "metadata": {},
     "output_type": "execute_result"
    }
   ],
   "source": [
    "import os\n",
    "path_dataset =r'D:\\University Data\\8 semester\\Lab Machine learning'\n",
    "path_tr = os.path.join(path_dataset, 'AEP_train.csv')\n",
    "df_tr = pd.read_csv(path_tr)\n",
    "train_set = df_tr.iloc[:].values\n",
    "path_v = os.path.join(path_dataset, 'AEP_validation.csv')\n",
    "df_v = pd.read_csv(path_v)\n",
    "validation_set = df_v.iloc[:].values \n",
    "path_te = os.path.join(path_dataset, 'AEP_test.csv')\n",
    "df_te = pd.read_csv(path_te)\n",
    "test_set = df_te.iloc[:].values \n",
    "\n",
    "path_scaler = os.path.join(path_dataset, 'AEP_Scaler.pkl')\n",
    "scaler         = pickle.load(open(path_scaler, 'rb'))\n",
    "\n",
    "train_set.shape, validation_set.shape, test_set.shape"
   ]
  },
  {
   "cell_type": "code",
   "execution_count": 21,
   "metadata": {},
   "outputs": [
    {
     "data": {
      "text/html": [
       "<div>\n",
       "<style scoped>\n",
       "    .dataframe tbody tr th:only-of-type {\n",
       "        vertical-align: middle;\n",
       "    }\n",
       "\n",
       "    .dataframe tbody tr th {\n",
       "        vertical-align: top;\n",
       "    }\n",
       "\n",
       "    .dataframe thead th {\n",
       "        text-align: right;\n",
       "    }\n",
       "</style>\n",
       "<table border=\"1\" class=\"dataframe\">\n",
       "  <thead>\n",
       "    <tr style=\"text-align: right;\">\n",
       "      <th></th>\n",
       "      <th>aep</th>\n",
       "      <th>Is_holiday1</th>\n",
       "      <th>Is_holiday2</th>\n",
       "      <th>Is_Weekend1</th>\n",
       "      <th>Is_Weekend2</th>\n",
       "      <th>sin_month</th>\n",
       "      <th>cos_month</th>\n",
       "      <th>sin_week</th>\n",
       "      <th>cos_week</th>\n",
       "      <th>sin_hour</th>\n",
       "      <th>...</th>\n",
       "      <th>sin_wintert</th>\n",
       "      <th>cos_wintert</th>\n",
       "      <th>sin_springt</th>\n",
       "      <th>cos_springt</th>\n",
       "      <th>sin_summert</th>\n",
       "      <th>cos_summert</th>\n",
       "      <th>sin_fallt</th>\n",
       "      <th>cos_fallt</th>\n",
       "      <th>sin_year_dayt</th>\n",
       "      <th>cos_year_dayt</th>\n",
       "    </tr>\n",
       "  </thead>\n",
       "  <tbody>\n",
       "    <tr>\n",
       "      <th>0</th>\n",
       "      <td>0.518532</td>\n",
       "      <td>1.0</td>\n",
       "      <td>0.0</td>\n",
       "      <td>1.0</td>\n",
       "      <td>0.0</td>\n",
       "      <td>1.0</td>\n",
       "      <td>6.123234e-17</td>\n",
       "      <td>0.866025</td>\n",
       "      <td>-0.5</td>\n",
       "      <td>-0.707107</td>\n",
       "      <td>...</td>\n",
       "      <td>0.0</td>\n",
       "      <td>1.0</td>\n",
       "      <td>1.0</td>\n",
       "      <td>6.123234e-17</td>\n",
       "      <td>0.0</td>\n",
       "      <td>1.0</td>\n",
       "      <td>0.0</td>\n",
       "      <td>1.0</td>\n",
       "      <td>0.956235</td>\n",
       "      <td>0.2926</td>\n",
       "    </tr>\n",
       "  </tbody>\n",
       "</table>\n",
       "<p>1 rows × 21 columns</p>\n",
       "</div>"
      ],
      "text/plain": [
       "        aep  Is_holiday1  Is_holiday2  Is_Weekend1  Is_Weekend2  sin_month  \\\n",
       "0  0.518532          1.0          0.0          1.0          0.0        1.0   \n",
       "\n",
       "      cos_month  sin_week  cos_week  sin_hour  ...  sin_wintert  cos_wintert  \\\n",
       "0  6.123234e-17  0.866025      -0.5 -0.707107  ...          0.0          1.0   \n",
       "\n",
       "   sin_springt   cos_springt  sin_summert  cos_summert  sin_fallt  cos_fallt  \\\n",
       "0          1.0  6.123234e-17          0.0          1.0        0.0        1.0   \n",
       "\n",
       "   sin_year_dayt  cos_year_dayt  \n",
       "0       0.956235         0.2926  \n",
       "\n",
       "[1 rows x 21 columns]"
      ]
     },
     "execution_count": 21,
     "metadata": {},
     "output_type": "execute_result"
    }
   ],
   "source": [
    "df_te.head(1)"
   ]
  },
  {
   "cell_type": "code",
   "execution_count": 22,
   "metadata": {},
   "outputs": [
    {
     "data": {
      "text/plain": [
       "array([ 5.18532385e-01,  1.00000000e+00,  0.00000000e+00,  1.00000000e+00,\n",
       "        0.00000000e+00,  1.00000000e+00,  6.12323400e-17,  8.66025404e-01,\n",
       "       -5.00000000e-01, -7.07106781e-01, -7.07106781e-01,  0.00000000e+00,\n",
       "        1.00000000e+00,  1.00000000e+00,  6.12323400e-17,  0.00000000e+00,\n",
       "        1.00000000e+00,  0.00000000e+00,  1.00000000e+00,  9.56234827e-01,\n",
       "        2.92600336e-01])"
      ]
     },
     "execution_count": 22,
     "metadata": {},
     "output_type": "execute_result"
    }
   ],
   "source": [
    "test_set[0]"
   ]
  },
  {
   "cell_type": "code",
   "execution_count": 23,
   "metadata": {},
   "outputs": [],
   "source": [
    "time_steps=2\n",
    "num_features=21"
   ]
  },
  {
   "cell_type": "code",
   "execution_count": 28,
   "metadata": {},
   "outputs": [],
   "source": [
    "train_X, train_y = univariate_multi_step(train_set, time_steps, target_col=0, target_len=5)\n"
   ]
  },
  {
   "cell_type": "code",
   "execution_count": 29,
   "metadata": {},
   "outputs": [
    {
     "data": {
      "text/plain": [
       "array([[ 1.69100212e-01,  1.00000000e+00,  0.00000000e+00,\n",
       "         1.00000000e+00,  0.00000000e+00, -8.66025404e-01,\n",
       "         5.00000000e-01, -8.66025404e-01, -5.00000000e-01,\n",
       "         2.58819045e-01,  9.65925826e-01,  0.00000000e+00,\n",
       "         1.00000000e+00,  0.00000000e+00,  1.00000000e+00,\n",
       "         0.00000000e+00,  1.00000000e+00,  1.00000000e+00,\n",
       "         6.12323400e-17, -9.99768502e-01,  2.15160974e-02],\n",
       "       [ 1.41395233e-01,  1.00000000e+00,  0.00000000e+00,\n",
       "         1.00000000e+00,  0.00000000e+00, -8.66025404e-01,\n",
       "         5.00000000e-01, -8.66025404e-01, -5.00000000e-01,\n",
       "         5.00000000e-01,  8.66025404e-01,  0.00000000e+00,\n",
       "         1.00000000e+00,  0.00000000e+00,  1.00000000e+00,\n",
       "         0.00000000e+00,  1.00000000e+00,  1.00000000e+00,\n",
       "         6.12323400e-17, -9.99768502e-01,  2.15160974e-02]])"
      ]
     },
     "execution_count": 29,
     "metadata": {},
     "output_type": "execute_result"
    }
   ],
   "source": [
    "train_X[0]"
   ]
  },
  {
   "cell_type": "code",
   "execution_count": 30,
   "metadata": {},
   "outputs": [
    {
     "data": {
      "text/plain": [
       "array([0.12623237, 0.12030451, 0.12554599, 0.16292275, 0.25102958])"
      ]
     },
     "execution_count": 30,
     "metadata": {},
     "output_type": "execute_result"
    }
   ],
   "source": [
    "train_y[0]"
   ]
  },
  {
   "cell_type": "code",
   "execution_count": 31,
   "metadata": {},
   "outputs": [],
   "source": [
    "time_steps =24\n",
    "train_X , train_y = univariate_multi_step(train_set, time_steps, target_col=1,target_len=2)"
   ]
  },
  {
   "cell_type": "code",
   "execution_count": 32,
   "metadata": {},
   "outputs": [
    {
     "data": {
      "text/plain": [
       "array([[ 1.69100212e-01,  1.00000000e+00,  0.00000000e+00,\n",
       "         1.00000000e+00,  0.00000000e+00, -8.66025404e-01,\n",
       "         5.00000000e-01, -8.66025404e-01, -5.00000000e-01,\n",
       "         2.58819045e-01,  9.65925826e-01,  0.00000000e+00,\n",
       "         1.00000000e+00,  0.00000000e+00,  1.00000000e+00,\n",
       "         0.00000000e+00,  1.00000000e+00,  1.00000000e+00,\n",
       "         6.12323400e-17, -9.99768502e-01,  2.15160974e-02],\n",
       "       [ 1.41395233e-01,  1.00000000e+00,  0.00000000e+00,\n",
       "         1.00000000e+00,  0.00000000e+00, -8.66025404e-01,\n",
       "         5.00000000e-01, -8.66025404e-01, -5.00000000e-01,\n",
       "         5.00000000e-01,  8.66025404e-01,  0.00000000e+00,\n",
       "         1.00000000e+00,  0.00000000e+00,  1.00000000e+00,\n",
       "         0.00000000e+00,  1.00000000e+00,  1.00000000e+00,\n",
       "         6.12323400e-17, -9.99768502e-01,  2.15160974e-02],\n",
       "       [ 1.26232372e-01,  1.00000000e+00,  0.00000000e+00,\n",
       "         1.00000000e+00,  0.00000000e+00, -8.66025404e-01,\n",
       "         5.00000000e-01, -8.66025404e-01, -5.00000000e-01,\n",
       "         7.07106781e-01,  7.07106781e-01,  0.00000000e+00,\n",
       "         1.00000000e+00,  0.00000000e+00,  1.00000000e+00,\n",
       "         0.00000000e+00,  1.00000000e+00,  1.00000000e+00,\n",
       "         6.12323400e-17, -9.99768502e-01,  2.15160974e-02],\n",
       "       [ 1.20304505e-01,  1.00000000e+00,  0.00000000e+00,\n",
       "         1.00000000e+00,  0.00000000e+00, -8.66025404e-01,\n",
       "         5.00000000e-01, -8.66025404e-01, -5.00000000e-01,\n",
       "         8.66025404e-01,  5.00000000e-01,  0.00000000e+00,\n",
       "         1.00000000e+00,  0.00000000e+00,  1.00000000e+00,\n",
       "         0.00000000e+00,  1.00000000e+00,  1.00000000e+00,\n",
       "         6.12323400e-17, -9.99768502e-01,  2.15160974e-02],\n",
       "       [ 1.25545988e-01,  1.00000000e+00,  0.00000000e+00,\n",
       "         1.00000000e+00,  0.00000000e+00, -8.66025404e-01,\n",
       "         5.00000000e-01, -8.66025404e-01, -5.00000000e-01,\n",
       "         9.65925826e-01,  2.58819045e-01,  0.00000000e+00,\n",
       "         1.00000000e+00,  0.00000000e+00,  1.00000000e+00,\n",
       "         0.00000000e+00,  1.00000000e+00,  1.00000000e+00,\n",
       "         6.12323400e-17, -9.99768502e-01,  2.15160974e-02],\n",
       "       [ 1.62922751e-01,  1.00000000e+00,  0.00000000e+00,\n",
       "         1.00000000e+00,  0.00000000e+00, -8.66025404e-01,\n",
       "         5.00000000e-01, -8.66025404e-01, -5.00000000e-01,\n",
       "         1.00000000e+00,  6.12323400e-17,  0.00000000e+00,\n",
       "         1.00000000e+00,  0.00000000e+00,  1.00000000e+00,\n",
       "         0.00000000e+00,  1.00000000e+00,  1.00000000e+00,\n",
       "         6.12323400e-17, -9.99768502e-01,  2.15160974e-02],\n",
       "       [ 2.51029577e-01,  1.00000000e+00,  0.00000000e+00,\n",
       "         1.00000000e+00,  0.00000000e+00, -8.66025404e-01,\n",
       "         5.00000000e-01, -8.66025404e-01, -5.00000000e-01,\n",
       "         9.65925826e-01, -2.58819045e-01,  0.00000000e+00,\n",
       "         1.00000000e+00,  0.00000000e+00,  1.00000000e+00,\n",
       "         0.00000000e+00,  1.00000000e+00,  1.00000000e+00,\n",
       "         6.12323400e-17, -9.99768502e-01,  2.15160974e-02],\n",
       "       [ 3.08810683e-01,  1.00000000e+00,  0.00000000e+00,\n",
       "         1.00000000e+00,  0.00000000e+00, -8.66025404e-01,\n",
       "         5.00000000e-01, -8.66025404e-01, -5.00000000e-01,\n",
       "         8.66025404e-01, -5.00000000e-01,  0.00000000e+00,\n",
       "         1.00000000e+00,  0.00000000e+00,  1.00000000e+00,\n",
       "         0.00000000e+00,  1.00000000e+00,  1.00000000e+00,\n",
       "         6.12323400e-17, -9.99768502e-01,  2.15160974e-02],\n",
       "       [ 3.26594284e-01,  1.00000000e+00,  0.00000000e+00,\n",
       "         1.00000000e+00,  0.00000000e+00, -8.66025404e-01,\n",
       "         5.00000000e-01, -8.66025404e-01, -5.00000000e-01,\n",
       "         7.07106781e-01, -7.07106781e-01,  0.00000000e+00,\n",
       "         1.00000000e+00,  0.00000000e+00,  1.00000000e+00,\n",
       "         0.00000000e+00,  1.00000000e+00,  1.00000000e+00,\n",
       "         6.12323400e-17, -9.99768502e-01,  2.15160974e-02],\n",
       "       [ 3.40009984e-01,  1.00000000e+00,  0.00000000e+00,\n",
       "         1.00000000e+00,  0.00000000e+00, -8.66025404e-01,\n",
       "         5.00000000e-01, -8.66025404e-01, -5.00000000e-01,\n",
       "         5.00000000e-01, -8.66025404e-01,  0.00000000e+00,\n",
       "         1.00000000e+00,  0.00000000e+00,  1.00000000e+00,\n",
       "         0.00000000e+00,  1.00000000e+00,  1.00000000e+00,\n",
       "         6.12323400e-17, -9.99768502e-01,  2.15160974e-02],\n",
       "       [ 3.47747410e-01,  1.00000000e+00,  0.00000000e+00,\n",
       "         1.00000000e+00,  0.00000000e+00, -8.66025404e-01,\n",
       "         5.00000000e-01, -8.66025404e-01, -5.00000000e-01,\n",
       "         2.58819045e-01, -9.65925826e-01,  0.00000000e+00,\n",
       "         1.00000000e+00,  0.00000000e+00,  1.00000000e+00,\n",
       "         0.00000000e+00,  1.00000000e+00,  1.00000000e+00,\n",
       "         6.12323400e-17, -9.99768502e-01,  2.15160974e-02],\n",
       "       [ 3.56046425e-01,  1.00000000e+00,  0.00000000e+00,\n",
       "         1.00000000e+00,  0.00000000e+00, -8.66025404e-01,\n",
       "         5.00000000e-01, -8.66025404e-01, -5.00000000e-01,\n",
       "         1.22464680e-16, -1.00000000e+00,  0.00000000e+00,\n",
       "         1.00000000e+00,  0.00000000e+00,  1.00000000e+00,\n",
       "         0.00000000e+00,  1.00000000e+00,  1.00000000e+00,\n",
       "         6.12323400e-17, -9.99768502e-01,  2.15160974e-02],\n",
       "       [ 3.57855984e-01,  1.00000000e+00,  0.00000000e+00,\n",
       "         1.00000000e+00,  0.00000000e+00, -8.66025404e-01,\n",
       "         5.00000000e-01, -8.66025404e-01, -5.00000000e-01,\n",
       "        -2.58819045e-01, -9.65925826e-01,  0.00000000e+00,\n",
       "         1.00000000e+00,  0.00000000e+00,  1.00000000e+00,\n",
       "         0.00000000e+00,  1.00000000e+00,  1.00000000e+00,\n",
       "         6.12323400e-17, -9.99768502e-01,  2.15160974e-02],\n",
       "       [ 3.73518033e-01,  1.00000000e+00,  0.00000000e+00,\n",
       "         1.00000000e+00,  0.00000000e+00, -8.66025404e-01,\n",
       "         5.00000000e-01, -8.66025404e-01, -5.00000000e-01,\n",
       "        -5.00000000e-01, -8.66025404e-01,  0.00000000e+00,\n",
       "         1.00000000e+00,  0.00000000e+00,  1.00000000e+00,\n",
       "         0.00000000e+00,  1.00000000e+00,  1.00000000e+00,\n",
       "         6.12323400e-17, -9.99768502e-01,  2.15160974e-02],\n",
       "       [ 3.78759516e-01,  1.00000000e+00,  0.00000000e+00,\n",
       "         1.00000000e+00,  0.00000000e+00, -8.66025404e-01,\n",
       "         5.00000000e-01, -8.66025404e-01, -5.00000000e-01,\n",
       "        -7.07106781e-01, -7.07106781e-01,  0.00000000e+00,\n",
       "         1.00000000e+00,  0.00000000e+00,  1.00000000e+00,\n",
       "         0.00000000e+00,  1.00000000e+00,  1.00000000e+00,\n",
       "         6.12323400e-17, -9.99768502e-01,  2.15160974e-02],\n",
       "       [ 3.78759516e-01,  1.00000000e+00,  0.00000000e+00,\n",
       "         1.00000000e+00,  0.00000000e+00, -8.66025404e-01,\n",
       "         5.00000000e-01, -8.66025404e-01, -5.00000000e-01,\n",
       "        -8.66025404e-01, -5.00000000e-01,  0.00000000e+00,\n",
       "         1.00000000e+00,  0.00000000e+00,  1.00000000e+00,\n",
       "         0.00000000e+00,  1.00000000e+00,  1.00000000e+00,\n",
       "         6.12323400e-17, -9.99768502e-01,  2.15160974e-02],\n",
       "       [ 3.72831649e-01,  1.00000000e+00,  0.00000000e+00,\n",
       "         1.00000000e+00,  0.00000000e+00, -8.66025404e-01,\n",
       "         5.00000000e-01, -8.66025404e-01, -5.00000000e-01,\n",
       "        -9.65925826e-01, -2.58819045e-01,  0.00000000e+00,\n",
       "         1.00000000e+00,  0.00000000e+00,  1.00000000e+00,\n",
       "         0.00000000e+00,  1.00000000e+00,  1.00000000e+00,\n",
       "         6.12323400e-17, -9.99768502e-01,  2.15160974e-02],\n",
       "       [ 3.54673655e-01,  1.00000000e+00,  0.00000000e+00,\n",
       "         1.00000000e+00,  0.00000000e+00, -8.66025404e-01,\n",
       "         5.00000000e-01, -8.66025404e-01, -5.00000000e-01,\n",
       "        -1.00000000e+00, -1.83697020e-16,  0.00000000e+00,\n",
       "         1.00000000e+00,  0.00000000e+00,  1.00000000e+00,\n",
       "         0.00000000e+00,  1.00000000e+00,  1.00000000e+00,\n",
       "         6.12323400e-17, -9.99768502e-01,  2.15160974e-02],\n",
       "       [ 3.34768501e-01,  1.00000000e+00,  0.00000000e+00,\n",
       "         1.00000000e+00,  0.00000000e+00, -8.66025404e-01,\n",
       "         5.00000000e-01, -8.66025404e-01, -5.00000000e-01,\n",
       "        -9.65925826e-01,  2.58819045e-01,  0.00000000e+00,\n",
       "         1.00000000e+00,  0.00000000e+00,  1.00000000e+00,\n",
       "         0.00000000e+00,  1.00000000e+00,  1.00000000e+00,\n",
       "         6.12323400e-17, -9.99768502e-01,  2.15160974e-02],\n",
       "       [ 3.45813054e-01,  1.00000000e+00,  0.00000000e+00,\n",
       "         1.00000000e+00,  0.00000000e+00, -8.66025404e-01,\n",
       "         5.00000000e-01, -8.66025404e-01, -5.00000000e-01,\n",
       "        -8.66025404e-01,  5.00000000e-01,  0.00000000e+00,\n",
       "         1.00000000e+00,  0.00000000e+00,  1.00000000e+00,\n",
       "         0.00000000e+00,  1.00000000e+00,  1.00000000e+00,\n",
       "         6.12323400e-17, -9.99768502e-01,  2.15160974e-02],\n",
       "       [ 3.54424061e-01,  1.00000000e+00,  0.00000000e+00,\n",
       "         1.00000000e+00,  0.00000000e+00, -8.66025404e-01,\n",
       "         5.00000000e-01, -8.66025404e-01, -5.00000000e-01,\n",
       "        -7.07106781e-01,  7.07106781e-01,  0.00000000e+00,\n",
       "         1.00000000e+00,  0.00000000e+00,  1.00000000e+00,\n",
       "         0.00000000e+00,  1.00000000e+00,  1.00000000e+00,\n",
       "         6.12323400e-17, -9.99768502e-01,  2.15160974e-02],\n",
       "       [ 3.22475977e-01,  1.00000000e+00,  0.00000000e+00,\n",
       "         1.00000000e+00,  0.00000000e+00, -8.66025404e-01,\n",
       "         5.00000000e-01, -8.66025404e-01, -5.00000000e-01,\n",
       "        -5.00000000e-01,  8.66025404e-01,  0.00000000e+00,\n",
       "         1.00000000e+00,  0.00000000e+00,  1.00000000e+00,\n",
       "         0.00000000e+00,  1.00000000e+00,  1.00000000e+00,\n",
       "         6.12323400e-17, -9.99768502e-01,  2.15160974e-02],\n",
       "       [ 2.74429053e-01,  1.00000000e+00,  0.00000000e+00,\n",
       "         1.00000000e+00,  0.00000000e+00, -8.66025404e-01,\n",
       "         5.00000000e-01, -8.66025404e-01, -5.00000000e-01,\n",
       "        -2.58819045e-01,  9.65925826e-01,  0.00000000e+00,\n",
       "         1.00000000e+00,  0.00000000e+00,  1.00000000e+00,\n",
       "         0.00000000e+00,  1.00000000e+00,  1.00000000e+00,\n",
       "         6.12323400e-17, -9.99768502e-01,  2.15160974e-02],\n",
       "       [ 2.17022339e-01,  1.00000000e+00,  0.00000000e+00,\n",
       "         0.00000000e+00,  1.00000000e+00, -8.66025404e-01,\n",
       "         5.00000000e-01, -8.66025404e-01,  5.00000000e-01,\n",
       "         0.00000000e+00,  1.00000000e+00,  0.00000000e+00,\n",
       "         1.00000000e+00,  0.00000000e+00,  1.00000000e+00,\n",
       "         0.00000000e+00,  1.00000000e+00,  1.00000000e+00,\n",
       "         6.12323400e-17, -9.99250011e-01,  3.87222809e-02]])"
      ]
     },
     "execution_count": 32,
     "metadata": {},
     "output_type": "execute_result"
    }
   ],
   "source": [
    "train_X[0]"
   ]
  },
  {
   "cell_type": "code",
   "execution_count": 33,
   "metadata": {},
   "outputs": [
    {
     "data": {
      "text/plain": [
       "array([1., 1.])"
      ]
     },
     "execution_count": 33,
     "metadata": {},
     "output_type": "execute_result"
    }
   ],
   "source": [
    "train_y[0]"
   ]
  },
  {
   "cell_type": "code",
   "execution_count": 34,
   "metadata": {},
   "outputs": [
    {
     "name": "stdout",
     "output_type": "stream",
     "text": [
      "Time Consumed 1.7829546928405762 sec\n"
     ]
    }
   ],
   "source": [
    "start = time.time()\n",
    "train_X , train_y = univariate_multi_step(train_set, time_steps, target_col=0,target_len=1)\n",
    "validation_X, validation_y = univariate_multi_step(validation_set, time_steps, target_col=0,target_len=1)\n",
    "test_X, test_y = univariate_multi_step(test_set, time_steps, target_col=0,target_len=1)\n",
    "print('Time Consumed', time.time()-start, \"sec\")"
   ]
  },
  {
   "cell_type": "code",
   "execution_count": 35,
   "metadata": {},
   "outputs": [
    {
     "name": "stdout",
     "output_type": "stream",
     "text": [
      "Epoch 1/60\n",
      "2641/2653 [============================>.] - ETA: 0s - loss: 0.0422 - mae: 0.0422 - mape: 1554.9469    \n",
      "Epoch 1: val_loss improved from inf to 0.02618, saving model to D:\\University Data\\8 semester\\Lab Machine learning\\lab7\\E1-cp-0001-loss0.03.h5\n",
      "2653/2653 [==============================] - 15s 5ms/step - loss: 0.0422 - mae: 0.0422 - mape: 1548.2034 - val_loss: 0.0262 - val_mae: 0.0262 - val_mape: 11.8747\n",
      "Epoch 2/60\n",
      "2653/2653 [==============================] - ETA: 0s - loss: 0.0244 - mae: 0.0244 - mape: 706.0624 \n",
      "Epoch 2: val_loss improved from 0.02618 to 0.02451, saving model to D:\\University Data\\8 semester\\Lab Machine learning\\lab7\\E1-cp-0002-loss0.02.h5\n",
      "2653/2653 [==============================] - 15s 6ms/step - loss: 0.0244 - mae: 0.0244 - mape: 706.0624 - val_loss: 0.0245 - val_mae: 0.0245 - val_mape: 11.2337\n",
      "Epoch 3/60\n",
      "2643/2653 [============================>.] - ETA: 0s - loss: 0.0214 - mae: 0.0214 - mape: 672.1329\n",
      "Epoch 3: val_loss improved from 0.02451 to 0.02118, saving model to D:\\University Data\\8 semester\\Lab Machine learning\\lab7\\E1-cp-0003-loss0.02.h5\n",
      "2653/2653 [==============================] - 13s 5ms/step - loss: 0.0214 - mae: 0.0214 - mape: 669.7313 - val_loss: 0.0212 - val_mae: 0.0212 - val_mape: 8.6322\n",
      "Epoch 4/60\n",
      "2647/2653 [============================>.] - ETA: 0s - loss: 0.0195 - mae: 0.0195 - mape: 498.5149 \n",
      "Epoch 4: val_loss improved from 0.02118 to 0.01998, saving model to D:\\University Data\\8 semester\\Lab Machine learning\\lab7\\E1-cp-0004-loss0.02.h5\n",
      "2653/2653 [==============================] - 16s 6ms/step - loss: 0.0195 - mae: 0.0195 - mape: 497.4806 - val_loss: 0.0200 - val_mae: 0.0200 - val_mape: 8.0312\n",
      "Epoch 5/60\n",
      "2645/2653 [============================>.] - ETA: 0s - loss: 0.0181 - mae: 0.0181 - mape: 196.1397\n",
      "Epoch 5: val_loss improved from 0.01998 to 0.01827, saving model to D:\\University Data\\8 semester\\Lab Machine learning\\lab7\\E1-cp-0005-loss0.02.h5\n",
      "2653/2653 [==============================] - 13s 5ms/step - loss: 0.0181 - mae: 0.0181 - mape: 195.5974 - val_loss: 0.0183 - val_mae: 0.0183 - val_mape: 8.6441\n",
      "Epoch 6/60\n",
      "2644/2653 [============================>.] - ETA: 0s - loss: 0.0170 - mae: 0.0170 - mape: 151.6353  \n",
      "Epoch 6: val_loss improved from 0.01827 to 0.01746, saving model to D:\\University Data\\8 semester\\Lab Machine learning\\lab7\\E1-cp-0006-loss0.02.h5\n",
      "2653/2653 [==============================] - 17s 6ms/step - loss: 0.0170 - mae: 0.0170 - mape: 151.1645 - val_loss: 0.0175 - val_mae: 0.0175 - val_mape: 7.6180\n",
      "Epoch 7/60\n",
      "2645/2653 [============================>.] - ETA: 0s - loss: 0.0164 - mae: 0.0164 - mape: 393.4453 \n",
      "Epoch 7: val_loss improved from 0.01746 to 0.01536, saving model to D:\\University Data\\8 semester\\Lab Machine learning\\lab7\\E1-cp-0007-loss0.02.h5\n",
      "2653/2653 [==============================] - 14s 5ms/step - loss: 0.0164 - mae: 0.0164 - mape: 392.3413 - val_loss: 0.0154 - val_mae: 0.0154 - val_mape: 6.4409\n",
      "Epoch 8/60\n",
      "2643/2653 [============================>.] - ETA: 0s - loss: 0.0155 - mae: 0.0155 - mape: 76.9737\n",
      "Epoch 8: val_loss improved from 0.01536 to 0.01358, saving model to D:\\University Data\\8 semester\\Lab Machine learning\\lab7\\E1-cp-0008-loss0.01.h5\n",
      "2653/2653 [==============================] - 15s 6ms/step - loss: 0.0155 - mae: 0.0155 - mape: 76.7134 - val_loss: 0.0136 - val_mae: 0.0136 - val_mape: 5.9724\n",
      "Epoch 9/60\n",
      "2641/2653 [============================>.] - ETA: 0s - loss: 0.0152 - mae: 0.0152 - mape: 249.4372\n",
      "Epoch 9: val_loss improved from 0.01358 to 0.01336, saving model to D:\\University Data\\8 semester\\Lab Machine learning\\lab7\\E1-cp-0009-loss0.01.h5\n",
      "2653/2653 [==============================] - 14s 5ms/step - loss: 0.0152 - mae: 0.0152 - mape: 248.3755 - val_loss: 0.0134 - val_mae: 0.0134 - val_mape: 5.7938\n",
      "Epoch 10/60\n",
      "2652/2653 [============================>.] - ETA: 0s - loss: 0.0145 - mae: 0.0145 - mape: 190.6715\n",
      "Epoch 10: val_loss did not improve from 0.01336\n",
      "2653/2653 [==============================] - 14s 5ms/step - loss: 0.0145 - mae: 0.0145 - mape: 190.6320 - val_loss: 0.0142 - val_mae: 0.0142 - val_mape: 6.7189\n",
      "Epoch 11/60\n",
      "2651/2653 [============================>.] - ETA: 0s - loss: 0.0143 - mae: 0.0143 - mape: 66.7729\n",
      "Epoch 11: val_loss did not improve from 0.01336\n",
      "2653/2653 [==============================] - 14s 5ms/step - loss: 0.0143 - mae: 0.0143 - mape: 66.7364 - val_loss: 0.0150 - val_mae: 0.0150 - val_mape: 6.5543\n",
      "Epoch 12/60\n",
      "2648/2653 [============================>.] - ETA: 0s - loss: 0.0141 - mae: 0.0141 - mape: 545.6693\n",
      "Epoch 12: val_loss improved from 0.01336 to 0.01241, saving model to D:\\University Data\\8 semester\\Lab Machine learning\\lab7\\E1-cp-0012-loss0.01.h5\n",
      "2653/2653 [==============================] - 14s 5ms/step - loss: 0.0141 - mae: 0.0141 - mape: 544.7392 - val_loss: 0.0124 - val_mae: 0.0124 - val_mape: 5.4544\n",
      "Epoch 13/60\n",
      "2650/2653 [============================>.] - ETA: 0s - loss: 0.0139 - mae: 0.0139 - mape: 207.8724  \n",
      "Epoch 13: val_loss did not improve from 0.01241\n",
      "2653/2653 [==============================] - 15s 6ms/step - loss: 0.0139 - mae: 0.0139 - mape: 207.6758 - val_loss: 0.0143 - val_mae: 0.0143 - val_mape: 7.3560\n",
      "Epoch 14/60\n",
      "2648/2653 [============================>.] - ETA: 0s - loss: 0.0137 - mae: 0.0137 - mape: 200.2442\n",
      "Epoch 14: val_loss did not improve from 0.01241\n",
      "2653/2653 [==============================] - 17s 6ms/step - loss: 0.0137 - mae: 0.0137 - mape: 199.9078 - val_loss: 0.0131 - val_mae: 0.0131 - val_mape: 5.8437\n",
      "Epoch 15/60\n",
      "2651/2653 [============================>.] - ETA: 0s - loss: 0.0135 - mae: 0.0135 - mape: 260.1176\n",
      "Epoch 15: val_loss did not improve from 0.01241\n",
      "2653/2653 [==============================] - 13s 5ms/step - loss: 0.0135 - mae: 0.0135 - mape: 259.9688 - val_loss: 0.0140 - val_mae: 0.0140 - val_mape: 6.2890\n",
      "Epoch 16/60\n",
      "2648/2653 [============================>.] - ETA: 0s - loss: 0.0133 - mae: 0.0133 - mape: 320.4743\n",
      "Epoch 16: val_loss did not improve from 0.01241\n",
      "2653/2653 [==============================] - 14s 5ms/step - loss: 0.0133 - mae: 0.0133 - mape: 319.9290 - val_loss: 0.0149 - val_mae: 0.0149 - val_mape: 6.5709\n",
      "Epoch 17/60\n",
      "2650/2653 [============================>.] - ETA: 0s - loss: 0.0131 - mae: 0.0131 - mape: 337.8822 \n",
      "Epoch 17: val_loss did not improve from 0.01241\n",
      "2653/2653 [==============================] - 13s 5ms/step - loss: 0.0131 - mae: 0.0131 - mape: 337.5600 - val_loss: 0.0168 - val_mae: 0.0168 - val_mape: 7.5648\n",
      "Epoch 18/60\n",
      "2641/2653 [============================>.] - ETA: 0s - loss: 0.0130 - mae: 0.0130 - mape: 219.0559  \n",
      "Epoch 18: val_loss did not improve from 0.01241\n",
      "2653/2653 [==============================] - 17s 7ms/step - loss: 0.0130 - mae: 0.0130 - mape: 218.1202 - val_loss: 0.0126 - val_mae: 0.0126 - val_mape: 5.4638\n",
      "Epoch 19/60\n",
      "2651/2653 [============================>.] - ETA: 0s - loss: 0.0129 - mae: 0.0129 - mape: 220.8770 \n",
      "Epoch 19: val_loss improved from 0.01241 to 0.01208, saving model to D:\\University Data\\8 semester\\Lab Machine learning\\lab7\\E1-cp-0019-loss0.01.h5\n",
      "2653/2653 [==============================] - 15s 6ms/step - loss: 0.0129 - mae: 0.0129 - mape: 220.7492 - val_loss: 0.0121 - val_mae: 0.0121 - val_mape: 5.2250\n",
      "Epoch 20/60\n",
      "2652/2653 [============================>.] - ETA: 0s - loss: 0.0127 - mae: 0.0127 - mape: 190.7998   \n",
      "Epoch 20: val_loss improved from 0.01208 to 0.01115, saving model to D:\\University Data\\8 semester\\Lab Machine learning\\lab7\\E1-cp-0020-loss0.01.h5\n",
      "2653/2653 [==============================] - 13s 5ms/step - loss: 0.0127 - mae: 0.0127 - mape: 190.7601 - val_loss: 0.0111 - val_mae: 0.0111 - val_mape: 5.2444\n",
      "Epoch 21/60\n",
      "2645/2653 [============================>.] - ETA: 0s - loss: 0.0127 - mae: 0.0127 - mape: 484.4701\n",
      "Epoch 21: val_loss did not improve from 0.01115\n",
      "2653/2653 [==============================] - 15s 5ms/step - loss: 0.0127 - mae: 0.0127 - mape: 483.0992 - val_loss: 0.0137 - val_mae: 0.0137 - val_mape: 6.5765\n",
      "Epoch 22/60\n",
      "2643/2653 [============================>.] - ETA: 0s - loss: 0.0124 - mae: 0.0124 - mape: 198.5008\n",
      "Epoch 22: val_loss did not improve from 0.01115\n",
      "2653/2653 [==============================] - 16s 6ms/step - loss: 0.0124 - mae: 0.0124 - mape: 197.8015 - val_loss: 0.0132 - val_mae: 0.0132 - val_mape: 5.6341\n",
      "Epoch 23/60\n",
      "2653/2653 [==============================] - ETA: 0s - loss: 0.0123 - mae: 0.0123 - mape: 368.6773 \n",
      "Epoch 23: val_loss did not improve from 0.01115\n",
      "2653/2653 [==============================] - 18s 7ms/step - loss: 0.0123 - mae: 0.0123 - mape: 368.6773 - val_loss: 0.0127 - val_mae: 0.0127 - val_mape: 7.0266\n",
      "Epoch 24/60\n",
      "2653/2653 [==============================] - ETA: 0s - loss: 0.0125 - mae: 0.0125 - mape: 192.5569\n",
      "Epoch 24: val_loss improved from 0.01115 to 0.01108, saving model to D:\\University Data\\8 semester\\Lab Machine learning\\lab7\\E1-cp-0024-loss0.01.h5\n",
      "2653/2653 [==============================] - 8s 3ms/step - loss: 0.0125 - mae: 0.0125 - mape: 192.5569 - val_loss: 0.0111 - val_mae: 0.0111 - val_mape: 4.9493\n",
      "Epoch 25/60\n",
      "2645/2653 [============================>.] - ETA: 0s - loss: 0.0123 - mae: 0.0123 - mape: 213.8319 \n",
      "Epoch 25: val_loss did not improve from 0.01108\n",
      "2653/2653 [==============================] - 7s 3ms/step - loss: 0.0123 - mae: 0.0123 - mape: 213.2360 - val_loss: 0.0132 - val_mae: 0.0132 - val_mape: 6.0103\n",
      "Epoch 26/60\n",
      "2631/2653 [============================>.] - ETA: 0s - loss: 0.0121 - mae: 0.0121 - mape: 419.8565 \n",
      "Epoch 26: val_loss did not improve from 0.01108\n",
      "2653/2653 [==============================] - 9s 3ms/step - loss: 0.0121 - mae: 0.0121 - mape: 416.4713 - val_loss: 0.0116 - val_mae: 0.0116 - val_mape: 5.2642\n",
      "Epoch 27/60\n",
      "2646/2653 [============================>.] - ETA: 0s - loss: 0.0122 - mae: 0.0122 - mape: 454.0131 \n",
      "Epoch 27: val_loss did not improve from 0.01108\n",
      "2653/2653 [==============================] - 9s 3ms/step - loss: 0.0122 - mae: 0.0122 - mape: 452.9006 - val_loss: 0.0147 - val_mae: 0.0147 - val_mape: 6.7966\n",
      "Epoch 28/60\n",
      "2646/2653 [============================>.] - ETA: 0s - loss: 0.0120 - mae: 0.0120 - mape: 397.6565 \n",
      "Epoch 28: val_loss did not improve from 0.01108\n",
      "2653/2653 [==============================] - 8s 3ms/step - loss: 0.0120 - mae: 0.0120 - mape: 396.6815 - val_loss: 0.0129 - val_mae: 0.0129 - val_mape: 6.0595\n",
      "Epoch 29/60\n",
      "2650/2653 [============================>.] - ETA: 0s - loss: 0.0120 - mae: 0.0120 - mape: 346.1870\n",
      "Epoch 29: val_loss did not improve from 0.01108\n",
      "2653/2653 [==============================] - 9s 3ms/step - loss: 0.0120 - mae: 0.0120 - mape: 345.8569 - val_loss: 0.0118 - val_mae: 0.0118 - val_mape: 5.5280\n",
      "Epoch 30/60\n",
      "2652/2653 [============================>.] - ETA: 0s - loss: 0.0117 - mae: 0.0117 - mape: 380.2767\n",
      "Epoch 30: val_loss did not improve from 0.01108\n",
      "2653/2653 [==============================] - 7s 3ms/step - loss: 0.0117 - mae: 0.0117 - mape: 380.1969 - val_loss: 0.0112 - val_mae: 0.0112 - val_mape: 5.2070\n",
      "Epoch 31/60\n",
      "2651/2653 [============================>.] - ETA: 0s - loss: 0.0119 - mae: 0.0119 - mape: 295.8407\n",
      "Epoch 31: val_loss did not improve from 0.01108\n",
      "2653/2653 [==============================] - 8s 3ms/step - loss: 0.0119 - mae: 0.0119 - mape: 295.6685 - val_loss: 0.0115 - val_mae: 0.0115 - val_mape: 5.2390\n",
      "Epoch 32/60\n",
      "2648/2653 [============================>.] - ETA: 0s - loss: 0.0117 - mae: 0.0117 - mape: 340.9546 \n",
      "Epoch 32: val_loss did not improve from 0.01108\n",
      "2653/2653 [==============================] - 8s 3ms/step - loss: 0.0117 - mae: 0.0117 - mape: 340.3746 - val_loss: 0.0114 - val_mae: 0.0114 - val_mape: 5.3912\n",
      "Epoch 33/60\n",
      "2653/2653 [==============================] - ETA: 0s - loss: 0.0117 - mae: 0.0117 - mape: 209.4190\n",
      "Epoch 33: val_loss did not improve from 0.01108\n",
      "2653/2653 [==============================] - 8s 3ms/step - loss: 0.0117 - mae: 0.0117 - mape: 209.4190 - val_loss: 0.0114 - val_mae: 0.0114 - val_mape: 5.4616\n",
      "Epoch 34/60\n",
      "2638/2653 [============================>.] - ETA: 0s - loss: 0.0116 - mae: 0.0116 - mape: 58.3278\n",
      "Epoch 34: val_loss improved from 0.01108 to 0.01076, saving model to D:\\University Data\\8 semester\\Lab Machine learning\\lab7\\E1-cp-0034-loss0.01.h5\n",
      "2653/2653 [==============================] - 9s 3ms/step - loss: 0.0116 - mae: 0.0116 - mape: 58.0282 - val_loss: 0.0108 - val_mae: 0.0108 - val_mape: 5.0260\n",
      "Epoch 35/60\n",
      "2631/2653 [============================>.] - ETA: 0s - loss: 0.0115 - mae: 0.0115 - mape: 70.4737 \n",
      "Epoch 35: val_loss did not improve from 0.01076\n",
      "2653/2653 [==============================] - 8s 3ms/step - loss: 0.0115 - mae: 0.0115 - mape: 69.9449 - val_loss: 0.0114 - val_mae: 0.0114 - val_mape: 5.6301\n",
      "Epoch 36/60\n",
      "2635/2653 [============================>.] - ETA: 0s - loss: 0.0114 - mae: 0.0114 - mape: 264.5297\n",
      "Epoch 36: val_loss did not improve from 0.01076\n",
      "2653/2653 [==============================] - 8s 3ms/step - loss: 0.0115 - mae: 0.0115 - mape: 262.8071 - val_loss: 0.0116 - val_mae: 0.0116 - val_mape: 5.3237\n",
      "Epoch 37/60\n",
      "2628/2653 [============================>.] - ETA: 0s - loss: 0.0113 - mae: 0.0113 - mape: 224.0117\n",
      "Epoch 37: val_loss did not improve from 0.01076\n",
      "2653/2653 [==============================] - 9s 3ms/step - loss: 0.0113 - mae: 0.0113 - mape: 221.9786 - val_loss: 0.0117 - val_mae: 0.0117 - val_mape: 5.7332\n",
      "Epoch 38/60\n",
      "2639/2653 [============================>.] - ETA: 0s - loss: 0.0114 - mae: 0.0114 - mape: 298.6581\n",
      "Epoch 38: val_loss improved from 0.01076 to 0.01021, saving model to D:\\University Data\\8 semester\\Lab Machine learning\\lab7\\E1-cp-0038-loss0.01.h5\n",
      "2653/2653 [==============================] - 7s 3ms/step - loss: 0.0114 - mae: 0.0114 - mape: 297.1483 - val_loss: 0.0102 - val_mae: 0.0102 - val_mape: 4.7704\n",
      "Epoch 39/60\n",
      "2645/2653 [============================>.] - ETA: 0s - loss: 0.0113 - mae: 0.0113 - mape: 194.6463\n",
      "Epoch 39: val_loss did not improve from 0.01021\n",
      "2653/2653 [==============================] - 8s 3ms/step - loss: 0.0113 - mae: 0.0113 - mape: 194.1018 - val_loss: 0.0129 - val_mae: 0.0129 - val_mape: 5.9980\n",
      "Epoch 40/60\n",
      "2653/2653 [==============================] - ETA: 0s - loss: 0.0113 - mae: 0.0113 - mape: 163.2434\n",
      "Epoch 40: val_loss improved from 0.01021 to 0.01014, saving model to D:\\University Data\\8 semester\\Lab Machine learning\\lab7\\E1-cp-0040-loss0.01.h5\n",
      "2653/2653 [==============================] - 9s 3ms/step - loss: 0.0113 - mae: 0.0113 - mape: 163.2434 - val_loss: 0.0101 - val_mae: 0.0101 - val_mape: 4.7315\n",
      "Epoch 41/60\n",
      "2649/2653 [============================>.] - ETA: 0s - loss: 0.0112 - mae: 0.0112 - mape: 369.2498\n",
      "Epoch 41: val_loss did not improve from 0.01014\n",
      "2653/2653 [==============================] - 7s 3ms/step - loss: 0.0112 - mae: 0.0112 - mape: 368.7584 - val_loss: 0.0122 - val_mae: 0.0122 - val_mape: 5.3684\n",
      "Epoch 42/60\n",
      "2642/2653 [============================>.] - ETA: 0s - loss: 0.0114 - mae: 0.0114 - mape: 92.3181 \n",
      "Epoch 42: val_loss did not improve from 0.01014\n",
      "2653/2653 [==============================] - 7s 3ms/step - loss: 0.0114 - mae: 0.0114 - mape: 91.9662 - val_loss: 0.0102 - val_mae: 0.0102 - val_mape: 4.8563\n",
      "Epoch 43/60\n",
      "2643/2653 [============================>.] - ETA: 0s - loss: 0.0111 - mae: 0.0111 - mape: 183.7757\n",
      "Epoch 43: val_loss did not improve from 0.01014\n",
      "2653/2653 [==============================] - 14s 5ms/step - loss: 0.0111 - mae: 0.0111 - mape: 183.1254 - val_loss: 0.0108 - val_mae: 0.0108 - val_mape: 5.1204\n",
      "Epoch 44/60\n",
      "2653/2653 [==============================] - ETA: 0s - loss: 0.0113 - mae: 0.0113 - mape: 275.1541\n",
      "Epoch 44: val_loss did not improve from 0.01014\n",
      "2653/2653 [==============================] - 15s 5ms/step - loss: 0.0113 - mae: 0.0113 - mape: 275.1541 - val_loss: 0.0119 - val_mae: 0.0119 - val_mape: 5.6590\n",
      "Epoch 45/60\n",
      "2652/2653 [============================>.] - ETA: 0s - loss: 0.0109 - mae: 0.0109 - mape: 182.7390 \n",
      "Epoch 45: val_loss did not improve from 0.01014\n",
      "2653/2653 [==============================] - 8s 3ms/step - loss: 0.0109 - mae: 0.0109 - mape: 182.7007 - val_loss: 0.0116 - val_mae: 0.0116 - val_mape: 5.2229\n",
      "Epoch 46/60\n",
      "2651/2653 [============================>.] - ETA: 0s - loss: 0.0110 - mae: 0.0110 - mape: 218.5590 \n",
      "Epoch 46: val_loss did not improve from 0.01014\n",
      "2653/2653 [==============================] - 7s 3ms/step - loss: 0.0110 - mae: 0.0110 - mape: 218.4331 - val_loss: 0.0139 - val_mae: 0.0139 - val_mape: 6.2248\n",
      "Epoch 47/60\n",
      "2653/2653 [==============================] - ETA: 0s - loss: 0.0109 - mae: 0.0109 - mape: 103.6578\n",
      "Epoch 47: val_loss did not improve from 0.01014\n",
      "2653/2653 [==============================] - 8s 3ms/step - loss: 0.0109 - mae: 0.0109 - mape: 103.6578 - val_loss: 0.0110 - val_mae: 0.0110 - val_mape: 5.2079\n",
      "Epoch 48/60\n",
      "2648/2653 [============================>.] - ETA: 0s - loss: 0.0111 - mae: 0.0111 - mape: 251.0411\n",
      "Epoch 48: val_loss improved from 0.01014 to 0.00983, saving model to D:\\University Data\\8 semester\\Lab Machine learning\\lab7\\E1-cp-0048-loss0.01.h5\n",
      "2653/2653 [==============================] - 10s 4ms/step - loss: 0.0111 - mae: 0.0111 - mape: 250.6155 - val_loss: 0.0098 - val_mae: 0.0098 - val_mape: 4.4946\n",
      "Epoch 49/60\n",
      "2648/2653 [============================>.] - ETA: 0s - loss: 0.0109 - mae: 0.0109 - mape: 6.2961 \n",
      "Epoch 49: val_loss did not improve from 0.00983\n",
      "2653/2653 [==============================] - 7s 3ms/step - loss: 0.0109 - mae: 0.0109 - mape: 6.2903 - val_loss: 0.0104 - val_mae: 0.0104 - val_mape: 5.1426\n",
      "Epoch 50/60\n",
      "2639/2653 [============================>.] - ETA: 0s - loss: 0.0108 - mae: 0.0108 - mape: 162.9583\n",
      "Epoch 50: val_loss improved from 0.00983 to 0.00982, saving model to D:\\University Data\\8 semester\\Lab Machine learning\\lab7\\E1-cp-0050-loss0.01.h5\n",
      "2653/2653 [==============================] - 7s 3ms/step - loss: 0.0108 - mae: 0.0108 - mape: 162.1414 - val_loss: 0.0098 - val_mae: 0.0098 - val_mape: 4.3445\n",
      "Epoch 51/60\n",
      "2643/2653 [============================>.] - ETA: 0s - loss: 0.0108 - mae: 0.0108 - mape: 251.6522\n",
      "Epoch 51: val_loss did not improve from 0.00982\n",
      "2653/2653 [==============================] - 7s 3ms/step - loss: 0.0108 - mae: 0.0108 - mape: 250.7580 - val_loss: 0.0103 - val_mae: 0.0103 - val_mape: 4.8820\n",
      "Epoch 52/60\n",
      "2649/2653 [============================>.] - ETA: 0s - loss: 0.0108 - mae: 0.0108 - mape: 60.7306 \n",
      "Epoch 52: val_loss improved from 0.00982 to 0.00937, saving model to D:\\University Data\\8 semester\\Lab Machine learning\\lab7\\E1-cp-0052-loss0.01.h5\n",
      "2653/2653 [==============================] - 9s 3ms/step - loss: 0.0108 - mae: 0.0108 - mape: 60.6545 - val_loss: 0.0094 - val_mae: 0.0094 - val_mape: 4.1754\n",
      "Epoch 53/60\n",
      "2636/2653 [============================>.] - ETA: 0s - loss: 0.0109 - mae: 0.0109 - mape: 308.3844\n",
      "Epoch 53: val_loss did not improve from 0.00937\n",
      "2653/2653 [==============================] - 7s 3ms/step - loss: 0.0109 - mae: 0.0109 - mape: 306.4803 - val_loss: 0.0105 - val_mae: 0.0105 - val_mape: 4.8588\n",
      "Epoch 54/60\n",
      "2651/2653 [============================>.] - ETA: 0s - loss: 0.0108 - mae: 0.0108 - mape: 205.2377 \n",
      "Epoch 54: val_loss did not improve from 0.00937\n",
      "2653/2653 [==============================] - 9s 4ms/step - loss: 0.0108 - mae: 0.0108 - mape: 205.1197 - val_loss: 0.0119 - val_mae: 0.0119 - val_mape: 6.0177\n",
      "Epoch 55/60\n",
      "2638/2653 [============================>.] - ETA: 0s - loss: 0.0107 - mae: 0.0107 - mape: 262.0392\n",
      "Epoch 55: val_loss did not improve from 0.00937\n",
      "2653/2653 [==============================] - 9s 3ms/step - loss: 0.0107 - mae: 0.0107 - mape: 260.6217 - val_loss: 0.0126 - val_mae: 0.0126 - val_mape: 6.7136\n",
      "Epoch 56/60\n",
      "2638/2653 [============================>.] - ETA: 0s - loss: 0.0107 - mae: 0.0107 - mape: 322.4490 \n",
      "Epoch 56: val_loss did not improve from 0.00937\n",
      "2653/2653 [==============================] - 8s 3ms/step - loss: 0.0107 - mae: 0.0107 - mape: 320.6998 - val_loss: 0.0101 - val_mae: 0.0101 - val_mape: 4.5801\n",
      "Epoch 57/60\n",
      "2643/2653 [============================>.] - ETA: 0s - loss: 0.0106 - mae: 0.0106 - mape: 178.7073\n",
      "Epoch 57: val_loss did not improve from 0.00937\n",
      "2653/2653 [==============================] - 7s 3ms/step - loss: 0.0106 - mae: 0.0106 - mape: 178.0736 - val_loss: 0.0103 - val_mae: 0.0103 - val_mape: 5.0253\n",
      "Epoch 58/60\n",
      "2646/2653 [============================>.] - ETA: 0s - loss: 0.0107 - mae: 0.0107 - mape: 113.6415 \n",
      "Epoch 58: val_loss did not improve from 0.00937\n",
      "2653/2653 [==============================] - 9s 3ms/step - loss: 0.0107 - mae: 0.0107 - mape: 113.3692 - val_loss: 0.0108 - val_mae: 0.0108 - val_mape: 5.3522\n",
      "Epoch 59/60\n",
      "2651/2653 [============================>.] - ETA: 0s - loss: 0.0105 - mae: 0.0105 - mape: 130.7810 \n",
      "Epoch 59: val_loss did not improve from 0.00937\n",
      "2653/2653 [==============================] - 8s 3ms/step - loss: 0.0105 - mae: 0.0105 - mape: 130.7056 - val_loss: 0.0103 - val_mae: 0.0103 - val_mape: 4.5548\n",
      "Epoch 60/60\n",
      "2644/2653 [============================>.] - ETA: 0s - loss: 0.0107 - mae: 0.0107 - mape: 157.2453\n",
      "Epoch 60: val_loss did not improve from 0.00937\n",
      "2653/2653 [==============================] - 11s 4ms/step - loss: 0.0107 - mae: 0.0107 - mape: 156.7503 - val_loss: 0.0104 - val_mae: 0.0104 - val_mape: 4.9960\n"
     ]
    }
   ],
   "source": [
    "epochs = 60\n",
    "verbose = 1 #0\n",
    "batch_size = 32\n",
    "History = model.fit(train_X,\n",
    "                        train_y,\n",
    "                        batch_size=batch_size,   \n",
    "                        epochs = epochs, \n",
    "                        validation_data = (validation_X,validation_y),\n",
    "                        callbacks=callbacks,\n",
    "                    verbose = verbose)"
   ]
  },
  {
   "cell_type": "code",
   "execution_count": 38,
   "metadata": {},
   "outputs": [
    {
     "name": "stdout",
     "output_type": "stream",
     "text": [
      "379/379 [==============================] - 1s 1ms/step\n",
      "Mean Absolute Error (MAE): 167.05\n",
      "Median Absolute Error (MedAE): 135.1\n",
      "Mean Squared Error (MSE): 45965.54\n",
      "Root Mean Squared Error (RMSE): 214.4\n",
      "Mean Absolute Percentage Error (MAPE): 1.14 %\n",
      "Median Absolute Percentage Error (MDAPE): 0.94 %\n",
      "\n",
      "\n",
      "y_test_unscaled.shape=  (12105, 1)\n",
      "y_pred.shape=  (12105, 1)\n"
     ]
    }
   ],
   "source": [
    "\n",
    "model = load_model(r'D:\\University Data\\8 semester\\Lab Machine learning\\lab7\\E1-cp-0038-loss0.01.h5')\n",
    "\n",
    "y_pred_scaled   = model.predict(test_X)\n",
    "y_pred          = scaler.inverse_transform(y_pred_scaled)\n",
    "y_test_unscaled = scaler.inverse_transform(test_y)\n",
    "# Mean Absolute Error (MAE)\n",
    "MAE = np.mean(abs(y_pred - y_test_unscaled)) \n",
    "print('Mean Absolute Error (MAE): ' + str(np.round(MAE, 2)))\n",
    "\n",
    "# Median Absolute Error (MedAE)\n",
    "MEDAE = np.median(abs(y_pred - y_test_unscaled))\n",
    "print('Median Absolute Error (MedAE): ' + str(np.round(MEDAE, 2)))\n",
    "\n",
    "# Mean Squared Error (MSE)\n",
    "MSE = np.square(np.subtract(y_pred, y_test_unscaled)).mean()\n",
    "print('Mean Squared Error (MSE): ' + str(np.round(MSE, 2)))\n",
    "\n",
    "# Root Mean Squarred Error (RMSE) \n",
    "RMSE = np.sqrt(np.mean(np.square(y_pred - y_test_unscaled)))\n",
    "print('Root Mean Squared Error (RMSE): ' + str(np.round(RMSE, 2)))\n",
    "\n",
    "# Mean Absolute Percentage Error (MAPE)\n",
    "MAPE = np.mean((np.abs(np.subtract(y_test_unscaled, y_pred)/ y_test_unscaled))) * 100\n",
    "print('Mean Absolute Percentage Error (MAPE): ' + str(np.round(MAPE, 2)) + ' %')\n",
    "\n",
    "# Median Absolute Percentage Error (MDAPE)\n",
    "MDAPE = np.median((np.abs(np.subtract(y_test_unscaled, y_pred)/ y_test_unscaled))) * 100\n",
    "print('Median Absolute Percentage Error (MDAPE): ' + str(np.round(MDAPE, 2)) + ' %')\n",
    "\n",
    "print('\\n\\ny_test_unscaled.shape= ',y_test_unscaled.shape)\n",
    "print('y_pred.shape= ',y_pred.shape)"
   ]
  },
  {
   "cell_type": "markdown",
   "metadata": {},
   "source": [
    "# Fine Tuning"
   ]
  },
  {
   "cell_type": "code",
   "execution_count": 39,
   "metadata": {},
   "outputs": [],
   "source": [
    "checkpoints = r'D:\\University Data\\8 semester\\Lab Machine learning\\lab7\\E2-cp-{epoch:04d}-loss{val_loss:.2f}.h5'\n",
    "model=r'D:\\University Data\\8 semester\\Lab Machine learning\\lab7\\E1-cp-0038-loss0.01.h5'\n",
    "start_epoch= 39"
   ]
  },
  {
   "cell_type": "code",
   "execution_count": 40,
   "metadata": {},
   "outputs": [
    {
     "name": "stdout",
     "output_type": "stream",
     "text": [
      "[INFO] loading D:\\University Data\\8 semester\\Lab Machine learning\\lab7\\E1-cp-0038-loss0.01.h5...\n",
      "[INFO] old learning rate: 0.0010000000474974513\n",
      "[INFO] new learning rate: 9.999999747378752e-05\n"
     ]
    }
   ],
   "source": [
    "# construct the callback to save only the *best* model to disk\n",
    "# based on the validation loss\n",
    "EpochCheckpoint1 = ModelCheckpoint(checkpoints,\n",
    "                             monitor=\"val_loss\",\n",
    "                             save_best_only=True, \n",
    "                             verbose=1)\n",
    "#TrainingMonitor1=TrainingMonitor(FIG_PATH, jsonPath=JSON_PATH, startAt=start_epoch)\n",
    "\n",
    "# construct the set of callbacks\n",
    "callbacks = [EpochCheckpoint1]\n",
    "# if there is no specific model checkpoint supplied, then initialize\n",
    "# the network and compile the model\n",
    "if model is None:\n",
    "    print(\"[INFO] compiling model...\")\n",
    "    model = PC.build(time_steps=24, num_features=21, reg=0.0005)\n",
    "    opt = Adam(1e-3)\n",
    "    model.compile(loss= 'mae', optimizer=opt, metrics=[\"mae\", \"mape\"])\n",
    "# otherwise, load the checkpoint from disk\n",
    "else:\n",
    "    print(\"[INFO] loading {}...\".format(model))\n",
    "    model = load_model(model)\n",
    "\n",
    "    # update the learning rate\n",
    "    print(\"[INFO] old learning rate: {}\".format(K.get_value(model.optimizer.lr)))\n",
    "    K.set_value(model.optimizer.lr, 1e-4)\n",
    "    print(\"[INFO] new learning rate: {}\".format(K.get_value(model.optimizer.lr)))"
   ]
  },
  {
   "cell_type": "code",
   "execution_count": 41,
   "metadata": {},
   "outputs": [
    {
     "name": "stdout",
     "output_type": "stream",
     "text": [
      "Epoch 1/10\n",
      "2626/2653 [============================>.] - ETA: 0s - loss: 0.0087 - mae: 0.0087 - mape: 215.6400 \n",
      "Epoch 1: val_loss improved from inf to 0.00893, saving model to D:\\University Data\\8 semester\\Lab Machine learning\\lab7\\E2-cp-0001-loss0.01.h5\n",
      "2653/2653 [==============================] - 7s 2ms/step - loss: 0.0087 - mae: 0.0087 - mape: 213.5092 - val_loss: 0.0089 - val_mae: 0.0089 - val_mape: 4.0906\n",
      "Epoch 2/10\n",
      "2632/2653 [============================>.] - ETA: 0s - loss: 0.0086 - mae: 0.0086 - mape: 222.1556\n",
      "Epoch 2: val_loss improved from 0.00893 to 0.00885, saving model to D:\\University Data\\8 semester\\Lab Machine learning\\lab7\\E2-cp-0002-loss0.01.h5\n",
      "2653/2653 [==============================] - 7s 3ms/step - loss: 0.0086 - mae: 0.0086 - mape: 220.4538 - val_loss: 0.0088 - val_mae: 0.0088 - val_mape: 4.1333\n",
      "Epoch 3/10\n",
      "2646/2653 [============================>.] - ETA: 0s - loss: 0.0086 - mae: 0.0086 - mape: 212.0588  \n",
      "Epoch 3: val_loss did not improve from 0.00885\n",
      "2653/2653 [==============================] - 6s 2ms/step - loss: 0.0086 - mae: 0.0086 - mape: 211.5409 - val_loss: 0.0092 - val_mae: 0.0092 - val_mape: 4.1972\n",
      "Epoch 4/10\n",
      "2638/2653 [============================>.] - ETA: 0s - loss: 0.0086 - mae: 0.0086 - mape: 222.3855\n",
      "Epoch 4: val_loss did not improve from 0.00885\n",
      "2653/2653 [==============================] - 7s 3ms/step - loss: 0.0086 - mae: 0.0086 - mape: 221.1801 - val_loss: 0.0093 - val_mae: 0.0093 - val_mape: 4.2085\n",
      "Epoch 5/10\n",
      "2636/2653 [============================>.] - ETA: 0s - loss: 0.0086 - mae: 0.0086 - mape: 189.4092\n",
      "Epoch 5: val_loss did not improve from 0.00885\n",
      "2653/2653 [==============================] - 7s 3ms/step - loss: 0.0086 - mae: 0.0086 - mape: 188.2437 - val_loss: 0.0090 - val_mae: 0.0090 - val_mape: 4.0634\n",
      "Epoch 6/10\n",
      "2641/2653 [============================>.] - ETA: 0s - loss: 0.0085 - mae: 0.0085 - mape: 114.3696\n",
      "Epoch 6: val_loss improved from 0.00885 to 0.00878, saving model to D:\\University Data\\8 semester\\Lab Machine learning\\lab7\\E2-cp-0006-loss0.01.h5\n",
      "2653/2653 [==============================] - 6s 2ms/step - loss: 0.0085 - mae: 0.0085 - mape: 113.8822 - val_loss: 0.0088 - val_mae: 0.0088 - val_mape: 3.9768\n",
      "Epoch 7/10\n",
      "2631/2653 [============================>.] - ETA: 0s - loss: 0.0085 - mae: 0.0085 - mape: 188.0536\n",
      "Epoch 7: val_loss did not improve from 0.00878\n",
      "2653/2653 [==============================] - 7s 2ms/step - loss: 0.0085 - mae: 0.0085 - mape: 186.5477 - val_loss: 0.0088 - val_mae: 0.0088 - val_mape: 3.9941\n",
      "Epoch 8/10\n",
      "2629/2653 [============================>.] - ETA: 0s - loss: 0.0085 - mae: 0.0085 - mape: 172.8247 \n",
      "Epoch 8: val_loss did not improve from 0.00878\n",
      "2653/2653 [==============================] - 7s 2ms/step - loss: 0.0085 - mae: 0.0085 - mape: 171.3127 - val_loss: 0.0090 - val_mae: 0.0090 - val_mape: 4.0493\n",
      "Epoch 9/10\n",
      "2649/2653 [============================>.] - ETA: 0s - loss: 0.0085 - mae: 0.0085 - mape: 156.6564\n",
      "Epoch 9: val_loss improved from 0.00878 to 0.00854, saving model to D:\\University Data\\8 semester\\Lab Machine learning\\lab7\\E2-cp-0009-loss0.01.h5\n",
      "2653/2653 [==============================] - 7s 3ms/step - loss: 0.0085 - mae: 0.0085 - mape: 156.4499 - val_loss: 0.0085 - val_mae: 0.0085 - val_mape: 3.8665\n",
      "Epoch 10/10\n",
      "2633/2653 [============================>.] - ETA: 0s - loss: 0.0084 - mae: 0.0084 - mape: 155.1646\n",
      "Epoch 10: val_loss did not improve from 0.00854\n",
      "2653/2653 [==============================] - 9s 3ms/step - loss: 0.0084 - mae: 0.0084 - mape: 154.0428 - val_loss: 0.0091 - val_mae: 0.0091 - val_mape: 4.0793\n"
     ]
    }
   ],
   "source": [
    "epochs = 10\n",
    "verbose = 1 #0\n",
    "batch_size = 32\n",
    "History = model.fit(train_X,\n",
    "                        train_y,\n",
    "                        batch_size=batch_size,   \n",
    "                        epochs = epochs, \n",
    "                        validation_data = (validation_X,validation_y),\n",
    "                        callbacks=callbacks,\n",
    "                        verbose = verbose)"
   ]
  },
  {
   "cell_type": "code",
   "execution_count": 42,
   "metadata": {},
   "outputs": [
    {
     "name": "stdout",
     "output_type": "stream",
     "text": [
      "379/379 [==============================] - 0s 1ms/step\n",
      "Mean Absolute Error (MAE): 144.59\n",
      "Median Absolute Error (MedAE): 118.36\n",
      "Mean Squared Error (MSE): 34849.79\n",
      "Root Mean Squared Error (RMSE): 186.68\n",
      "Mean Absolute Percentage Error (MAPE): 0.98 %\n",
      "Median Absolute Percentage Error (MDAPE): 0.83 %\n",
      "\n",
      "\n",
      "y_test_unscaled.shape=  (12105, 1)\n",
      "y_pred.shape=  (12105, 1)\n"
     ]
    }
   ],
   "source": [
    "\n",
    "model = load_model(r'D:\\University Data\\8 semester\\Lab Machine learning\\lab7\\E2-cp-0006-loss0.01.h5')\n",
    "\n",
    "y_pred_scaled   = model.predict(test_X)\n",
    "y_pred          = scaler.inverse_transform(y_pred_scaled)\n",
    "y_test_unscaled = scaler.inverse_transform(test_y)\n",
    "# Mean Absolute Error (MAE)\n",
    "MAE = np.mean(abs(y_pred - y_test_unscaled)) \n",
    "print('Mean Absolute Error (MAE): ' + str(np.round(MAE, 2)))\n",
    "\n",
    "# Median Absolute Error (MedAE)\n",
    "MEDAE = np.median(abs(y_pred - y_test_unscaled))\n",
    "print('Median Absolute Error (MedAE): ' + str(np.round(MEDAE, 2)))\n",
    "\n",
    "# Mean Squared Error (MSE)\n",
    "MSE = np.square(np.subtract(y_pred, y_test_unscaled)).mean()\n",
    "print('Mean Squared Error (MSE): ' + str(np.round(MSE, 2)))\n",
    "\n",
    "# Root Mean Squarred Error (RMSE) \n",
    "RMSE = np.sqrt(np.mean(np.square(y_pred - y_test_unscaled)))\n",
    "print('Root Mean Squared Error (RMSE): ' + str(np.round(RMSE, 2)))\n",
    "\n",
    "# Mean Absolute Percentage Error (MAPE)\n",
    "MAPE = np.mean((np.abs(np.subtract(y_test_unscaled, y_pred)/ y_test_unscaled))) * 100\n",
    "print('Mean Absolute Percentage Error (MAPE): ' + str(np.round(MAPE, 2)) + ' %')\n",
    "\n",
    "# Median Absolute Percentage Error (MDAPE)\n",
    "MDAPE = np.median((np.abs(np.subtract(y_test_unscaled, y_pred)/ y_test_unscaled))) * 100\n",
    "print('Median Absolute Percentage Error (MDAPE): ' + str(np.round(MDAPE, 2)) + ' %')\n",
    "\n",
    "print('\\n\\ny_test_unscaled.shape= ',y_test_unscaled.shape)\n",
    "print('y_pred.shape= ',y_pred.shape)"
   ]
  },
  {
   "cell_type": "code",
   "execution_count": null,
   "metadata": {},
   "outputs": [],
   "source": []
  },
  {
   "cell_type": "code",
   "execution_count": null,
   "metadata": {},
   "outputs": [],
   "source": []
  }
 ],
 "metadata": {
  "kernelspec": {
   "display_name": "Python 3 (ipykernel)",
   "language": "python",
   "name": "python3"
  },
  "language_info": {
   "codemirror_mode": {
    "name": "ipython",
    "version": 3
   },
   "file_extension": ".py",
   "mimetype": "text/x-python",
   "name": "python",
   "nbconvert_exporter": "python",
   "pygments_lexer": "ipython3",
   "version": "3.9.15"
  }
 },
 "nbformat": 4,
 "nbformat_minor": 4
}
